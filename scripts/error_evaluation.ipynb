{
 "cells": [
  {
   "cell_type": "code",
   "execution_count": 97,
   "metadata": {},
   "outputs": [],
   "source": [
    "import argparse\n",
    "from tqdm import tqdm\n",
    "import json\n",
    "import os\n",
    "from torchmetrics.text import CharErrorRate, WordErrorRate\n",
    "import jiwer"
   ]
  },
  {
   "cell_type": "code",
   "execution_count": 98,
   "metadata": {},
   "outputs": [],
   "source": [
    "transformation = jiwer.Compose([\n",
    "    jiwer.ToLowerCase(),\n",
    "    jiwer.RemovePunctuation(),\n",
    "    jiwer.RemoveMultipleSpaces(),\n",
    "    jiwer.Strip(),\n",
    "])"
   ]
  },
  {
   "cell_type": "code",
   "execution_count": 99,
   "metadata": {},
   "outputs": [],
   "source": [
    "\n",
    "\n",
    "input_dir = \"/home/efittsc1/projects/latin-transcription/work/max_data_-1/results\"\n",
    "\n",
    "train_results = input_dir + \"/train\"\n",
    "val_results = input_dir + \"/val\"\n",
    "\n",
    "results = {\"train\": [], \"val\": []}\n",
    "\n",
    "for directory in [train_results, val_results]:\n",
    "    for filename in os.listdir(directory):\n",
    "        with open(os.path.join(directory, filename), 'r') as f:\n",
    "            results[os.path.basename(directory)].append(json.load(f))\n",
    "\n",
    "\n",
    "\n",
    "\n"
   ]
  },
  {
   "cell_type": "code",
   "execution_count": 100,
   "metadata": {},
   "outputs": [],
   "source": [
    "word_error_stats = {\"train\": {}, \"val\": {}}"
   ]
  },
  {
   "cell_type": "code",
   "execution_count": 101,
   "metadata": {},
   "outputs": [
    {
     "name": "stderr",
     "output_type": "stream",
     "text": [
      "100%|██████████| 2013/2013 [00:00<00:00, 9064.35it/s]\n",
      "100%|██████████| 233/233 [00:00<00:00, 10526.76it/s]\n"
     ]
    }
   ],
   "source": [
    "for directory in results.keys():\n",
    "    for i in tqdm(range(len(results[directory]))):\n",
    "        reference = transformation(results[directory][i][\"truth\"])\n",
    "        hypothesis = transformation(results[directory][i][\"prediction\"])\n",
    "        truth_words = reference.split(\" \")\n",
    "        comparison = jiwer.process_words(reference, hypothesis)\n",
    "        for alignment in comparison.alignments[0]:\n",
    "            for index in range(alignment.ref_start_idx, alignment.ref_end_idx):\n",
    "                word_ = truth_words[index]\n",
    "                type_ = alignment.type\n",
    "                if word_ not in word_error_stats[directory]:\n",
    "                    word_error_stats[directory][word_] = {}\n",
    "                if type_ not in word_error_stats[directory][word_]:\n",
    "                    word_error_stats[directory][word_][type_] = 0\n",
    "                if \"total\" not in word_error_stats[directory][word_]:\n",
    "                    word_error_stats[directory][word_][\"total\"] = 0\n",
    "                word_error_stats[directory][word_][type_] += 1\n",
    "                word_error_stats[directory][word_][\"total\"] += 1\n",
    "\n",
    "                \n"
   ]
  },
  {
   "cell_type": "code",
   "execution_count": 102,
   "metadata": {},
   "outputs": [
    {
     "name": "stdout",
     "output_type": "stream",
     "text": [
      "train len: 4503\n",
      "val len: 1331\n",
      "val not in train: 237\n",
      "{'proprie', 'pimmel', 'ho', 'norhtforyate', 'andegavie', 'normannie', 'firmacula', 'brimes', 'tholthorp', 'manuagii', 'declopton', 'hesinhull', 'vastatis', 'vaccas', 'mathie', 'furata', 'liberatas', 'assheburn', 'convincendum', 'precio', 'pretensam', 'valeat', 'nater', 'defectum', 'tare', 'tre', 'jocalia', 'comodum', 'uxoris', 'percipiendam', 'tulerunt', 'auxilio', 'continue', 'constitucionem', 'symonis', 'aliter', 'dicari', 'cecilia', 'alij', 'albus', 'sequebatur', 'existencium', 'cornubie', 'fraude', 'aueria', 'bonis', 'caloch', 'molere', 'lunar', 'attornatos', 'xilij', 'hybernie', 'pyrie', 'easdem', 'judicii', 'prisonum', 'aldemare', 'redem', 'sores', 'xxmo', 'magis', 'clamavit', 'removendum', 'assignatas', 'ligauit', 'chyrin', 'admisit', 'na', 'licit', 'wemme', 'mor', 'tokene', 'custos', 'ta', 'xori', 'execucione', 'emit', 'wolveseye', 'totus', 'cura', 'utilitatem', 'waut', 'duxit', 'contemptu', 'hundretorum', 'godefridi', 'meditate', 'ordinarii', 'cervisia', 'amiciam', 'comitis', 'xxili', 'marcatam', 'ruffum', 'comes', 'appreciacionem', 'utfongenethef', 'stetit', 'turno', 'talee', 'ridel', 'gerdeleg', 'triplum', 'thebaud', 'missus', 'ferram', 'pynlegh', 'dimidio', 'wynton', 'caperentur', 'lacy', 'velint', 'inclusit', 'appropriavit', 'hokeman', 'levatas', 'anuli', 'twyford', 'camped', 'werdon', 'excepciones', 'permaneret', 'audeleg', 'ballivis', 'estimacionem', 'recessit', 'goldeton', 'defectu', 'stotdesdon', 'dissencio', 'grafton', 'curtilagio', 'alius', 'cugeho', 'vtius', 'libere', 'egemindon', 'lohannem', 'provost', 'disseisire', 'dorcestre', 'prompciores', 'eve', 'cogeret', 'etheredibus', 'gris', 'dam', 'legalium', 'normanuill', 'cuiusdem', 'juratiqui', 'fracta', 'seiserentur', 'assewell', 'richelda', 'brakenberwe', 'ipsiusabbatis', 'serjant', 'executum', 'nuit', 'rus', 'verdun', 'dunstani', 'leuidegrane', 'symonem', 'ejecerunt', 'buile', 'nam', 'bolde', 'textorem', 'infongenethef', 'januari', 'colevill', 'capienda', 'reynerus', 'sinistro', 'inprisonamentum', 'este', 'pas', 'simplicis', 'joceus', 'chaumberleyn', 'lancastrie', 'merton', 'northbyr', 'sufficit', 'maletracta', 'spiritualibus', 'routon', 'sciens', 'bygot', 'dubitatur', 'bouiculos', 'knottyng', 'chetewinde', 'radburn', 'gyleberd', 'bromden', 'petendi', 'xj', 'inprisonamento', 'cugenho', 'hodenhull', 'beale', 'octingentis', 'blunt', 'capiendas', 'villenagio', 'pydyngton', 'actionem', 'potuissent', 'lx', 'recuperasset', 'februarii', 'audeleye', 'constabularius', 'admittat', 'tenementem', 'consilium', 'kalverhale', 'mewes', 'rapto', 'xiii', 'exeun', 'richardus', 'the', 'obligauerunt', 'ed', 'yemalibus', 'fauvell', 'deuheuwye', 'badil', 'kalverhall', 'manucapcionem', 'archibaldus', 'wercwode', 'oriebatur'}\n"
     ]
    }
   ],
   "source": [
    "val_words = set(word_error_stats[\"val\"].keys())\n",
    "train_words = set(word_error_stats[\"train\"].keys())\n",
    "\n",
    "print(f\"train len: {len(train_words)}\")\n",
    "print(f\"val len: {len(val_words)}\")\n",
    "\n",
    "val_not_in_train = val_words - train_words\n",
    "\n",
    "print(f\"val not in train: {len(val_not_in_train)}\")\n",
    "print(val_not_in_train)"
   ]
  },
  {
   "cell_type": "code",
   "execution_count": 103,
   "metadata": {},
   "outputs": [],
   "source": [
    "def calculate_accuracy(list_word_stats):\n",
    "    total = 0\n",
    "    correct = 0\n",
    "    for word, stats in list_word_stats:\n",
    "        total += stats[\"total\"]\n",
    "        correct += stats[\"equal\"] if \"equal\" in stats else 0\n",
    "    return correct / total"
   ]
  },
  {
   "cell_type": "code",
   "execution_count": 104,
   "metadata": {},
   "outputs": [
    {
     "name": "stdout",
     "output_type": "stream",
     "text": [
      "train accuracy: 0.9419863991268576\n",
      "val accuracy: 0.8815888083937047\n"
     ]
    }
   ],
   "source": [
    "train_accuracy = calculate_accuracy(list(word_error_stats[\"train\"].items()))\n",
    "val_accuracy = calculate_accuracy(list(word_error_stats[\"val\"].items()))\n",
    "\n",
    "print(f\"train accuracy: {train_accuracy}\")\n",
    "print(f\"val accuracy: {val_accuracy}\")"
   ]
  },
  {
   "cell_type": "code",
   "execution_count": 105,
   "metadata": {},
   "outputs": [
    {
     "name": "stdout",
     "output_type": "stream",
     "text": [
      "words not in train accuracy: 0.4583333333333333\n"
     ]
    }
   ],
   "source": [
    "words_not_in_train_accuracy = calculate_accuracy([(word, word_error_stats[\"val\"][word]) for word in val_not_in_train])\n",
    "print(f\"words not in train accuracy: {words_not_in_train_accuracy}\")"
   ]
  },
  {
   "cell_type": "code",
   "execution_count": null,
   "metadata": {},
   "outputs": [],
   "source": []
  },
  {
   "cell_type": "code",
   "execution_count": 106,
   "metadata": {},
   "outputs": [],
   "source": [
    "import pandas as pd\n",
    "\n",
    "val_df = pd.DataFrame.from_dict(word_error_stats[\"val\"], orient='index')\n",
    "train_df = pd.DataFrame.from_dict(word_error_stats[\"train\"], orient='index')\n",
    "\n",
    "val_not_in_train_df = pd.DataFrame.from_dict({word: word_error_stats[\"val\"][word] for word in val_not_in_train}, orient='index')\n",
    "\n",
    "\n",
    "val_df[\"accuracy\"] = val_df[\"equal\"] / val_df[\"total\"]\n",
    "train_df[\"accuracy\"] = train_df[\"equal\"] / train_df[\"total\"]\n",
    "val_not_in_train_df[\"accuracy\"] = val_not_in_train_df[\"equal\"] / val_not_in_train_df[\"total\"]"
   ]
  },
  {
   "cell_type": "code",
   "execution_count": 109,
   "metadata": {},
   "outputs": [],
   "source": [
    "total_errors_train = train_df[\"substitute\"].sum() + train_df[\"delete\"].sum()\n",
    "total_errors_val = val_df[\"substitute\"].sum() + val_df[\"delete\"].sum()\n",
    "total_errors_val_not_in_train = val_not_in_train_df[\"substitute\"].sum() + val_not_in_train_df[\"delete\"].sum()"
   ]
  },
  {
   "cell_type": "code",
   "execution_count": 111,
   "metadata": {},
   "outputs": [
    {
     "name": "stdout",
     "output_type": "stream",
     "text": [
      "total errors train: 2073.0\n",
      "total errors val: 474.0\n",
      "total errors val not in train: 130.0\n"
     ]
    }
   ],
   "source": [
    "print(f\"total errors train: {total_errors_train}\")\n",
    "print(f\"total errors val: {total_errors_val}\")\n",
    "print(f\"total errors val not in train: {total_errors_val_not_in_train}\")"
   ]
  },
  {
   "cell_type": "code",
   "execution_count": 112,
   "metadata": {},
   "outputs": [
    {
     "data": {
      "text/plain": [
       "np.float64(0.2742616033755274)"
      ]
     },
     "execution_count": 112,
     "metadata": {},
     "output_type": "execute_result"
    }
   ],
   "source": [
    "total_errors_val_not_in_train/total_errors_val"
   ]
  },
  {
   "cell_type": "code",
   "execution_count": null,
   "metadata": {},
   "outputs": [
    {
     "data": {
      "text/html": [
       "<div>\n",
       "<style scoped>\n",
       "    .dataframe tbody tr th:only-of-type {\n",
       "        vertical-align: middle;\n",
       "    }\n",
       "\n",
       "    .dataframe tbody tr th {\n",
       "        vertical-align: top;\n",
       "    }\n",
       "\n",
       "    .dataframe thead th {\n",
       "        text-align: right;\n",
       "    }\n",
       "</style>\n",
       "<table border=\"1\" class=\"dataframe\">\n",
       "  <thead>\n",
       "    <tr style=\"text-align: right;\">\n",
       "      <th></th>\n",
       "      <th>equal</th>\n",
       "      <th>total</th>\n",
       "      <th>substitute</th>\n",
       "      <th>delete</th>\n",
       "      <th>accuracy</th>\n",
       "    </tr>\n",
       "  </thead>\n",
       "  <tbody>\n",
       "    <tr>\n",
       "      <th>et</th>\n",
       "      <td>2479.0</td>\n",
       "      <td>2593</td>\n",
       "      <td>50.0</td>\n",
       "      <td>64.0</td>\n",
       "      <td>0.956035</td>\n",
       "    </tr>\n",
       "    <tr>\n",
       "      <th>in</th>\n",
       "      <td>848.0</td>\n",
       "      <td>863</td>\n",
       "      <td>8.0</td>\n",
       "      <td>7.0</td>\n",
       "      <td>0.982619</td>\n",
       "    </tr>\n",
       "    <tr>\n",
       "      <th>quas</th>\n",
       "      <td>16.0</td>\n",
       "      <td>16</td>\n",
       "      <td>NaN</td>\n",
       "      <td>NaN</td>\n",
       "      <td>1.000000</td>\n",
       "    </tr>\n",
       "    <tr>\n",
       "      <th>iidem</th>\n",
       "      <td>9.0</td>\n",
       "      <td>9</td>\n",
       "      <td>NaN</td>\n",
       "      <td>NaN</td>\n",
       "      <td>1.000000</td>\n",
       "    </tr>\n",
       "    <tr>\n",
       "      <th>thomas</th>\n",
       "      <td>95.0</td>\n",
       "      <td>102</td>\n",
       "      <td>6.0</td>\n",
       "      <td>1.0</td>\n",
       "      <td>0.931373</td>\n",
       "    </tr>\n",
       "  </tbody>\n",
       "</table>\n",
       "</div>"
      ],
      "text/plain": [
       "         equal  total  substitute  delete  accuracy\n",
       "et      2479.0   2593        50.0    64.0  0.956035\n",
       "in       848.0    863         8.0     7.0  0.982619\n",
       "quas      16.0     16         NaN     NaN  1.000000\n",
       "iidem      9.0      9         NaN     NaN  1.000000\n",
       "thomas    95.0    102         6.0     1.0  0.931373"
      ]
     },
     "execution_count": 56,
     "metadata": {},
     "output_type": "execute_result"
    }
   ],
   "source": [
    "train_df.head()"
   ]
  },
  {
   "cell_type": "code",
   "execution_count": null,
   "metadata": {},
   "outputs": [],
   "source": [
    "# levenstein distance\n",
    "import Levenshtein"
   ]
  },
  {
   "cell_type": "code",
   "execution_count": null,
   "metadata": {},
   "outputs": [],
   "source": []
  },
  {
   "cell_type": "code",
   "execution_count": null,
   "metadata": {},
   "outputs": [
    {
     "data": {
      "image/png": "[encoded data removed]",
      "text/plain": [
       "<Figure size 640x480 with 1 Axes>"
      ]
     },
     "metadata": {},
     "output_type": "display_data"
    },
    {
     "data": {
      "image/png": "[encoded data removed]",
      "text/plain": [
       "<Figure size 640x480 with 1 Axes>"
      ]
     },
     "metadata": {},
     "output_type": "display_data"
    }
   ],
   "source": [
    "import matplotlib.pyplot as plt\n",
    "\n",
    "plt.scatter(val_df[\"accuracy\"], val_df[\"total\"])\n",
    "plt.xlabel(\"accuracy\")\n",
    "plt.ylabel(\"total\")\n",
    "plt.show()\n",
    "\n",
    "plt.scatter(train_df[\"accuracy\"], train_df[\"total\"])\n",
    "plt.xlabel(\"accuracy\")\n",
    "plt.ylabel(\"total\")\n",
    "plt.show()"
   ]
  },
  {
   "cell_type": "code",
   "execution_count": null,
   "metadata": {},
   "outputs": [],
   "source": [
    "import numpy as np\n",
    "import math"
   ]
  },
  {
   "cell_type": "code",
   "execution_count": null,
   "metadata": {},
   "outputs": [],
   "source": [
    "distance_mapping = {}\n",
    "for word in val_not_in_train:\n",
    "    # find the closest word in train\n",
    "    distances = {train_word: Levenshtein.distance(word, train_word) for train_word in train_words}\n",
    "    closest_word = min(distances, key=distances.get)\n",
    "    closest_distance = distances[closest_word]\n",
    "    if closest_distance not in distance_mapping:\n",
    "        distance_mapping[closest_distance] = {\"total\": 0, \"correct\": 0}\n",
    "    distance_mapping[closest_distance][\"total\"] += val_not_in_train_df.loc[word][\"total\"].item()\n",
    "    equal = val_not_in_train_df.loc[word][\"equal\"].item()\n",
    "    if not math.isnan(equal):\n",
    "        distance_mapping[closest_distance][\"correct\"] += equal\n",
    "\n",
    "\n"
   ]
  },
  {
   "cell_type": "code",
   "execution_count": null,
   "metadata": {},
   "outputs": [
    {
     "data": {
      "text/plain": [
       "{1: {'total': 115.0, 'correct': 55.0},\n",
       " 6: {'total': 3.0, 'correct': 1.0},\n",
       " 4: {'total': 16.0, 'correct': 4.0},\n",
       " 2: {'total': 61.0, 'correct': 28.0},\n",
       " 3: {'total': 38.0, 'correct': 20.0},\n",
       " 5: {'total': 6.0, 'correct': 2.0},\n",
       " 7: {'total': 1.0, 'correct': 0}}"
      ]
     },
     "execution_count": 94,
     "metadata": {},
     "output_type": "execute_result"
    }
   ],
   "source": [
    "distance_mapping"
   ]
  },
  {
   "cell_type": "code",
   "execution_count": null,
   "metadata": {},
   "outputs": [
    {
     "data": {
      "image/png": "[encoded data removed]",
      "text/plain": [
       "<Figure size 640x480 with 1 Axes>"
      ]
     },
     "metadata": {},
     "output_type": "display_data"
    }
   ],
   "source": [
    "word_distances = list(distance_mapping.keys())\n",
    "word_accuracies = [distance_mapping[distance][\"correct\"] / distance_mapping[distance][\"total\"] for distance in word_distances]\n",
    "# plot levenstein distance on x axis and the accuracy on y axis\n",
    "plt.scatter(word_distances, word_accuracies)\n",
    "plt.xlabel(\"Levenstein distance\")\n",
    "plt.ylabel(\"accuracy\")\n",
    "plt.show()"
   ]
  }
 ],
 "metadata": {
  "kernelspec": {
   "display_name": ".venv",
   "language": "python",
   "name": "python3"
  },
  "language_info": {
   "codemirror_mode": {
    "name": "ipython",
    "version": 3
   },
   "file_extension": ".py",
   "mimetype": "text/x-python",
   "name": "python",
   "nbconvert_exporter": "python",
   "pygments_lexer": "ipython3",
   "version": "3.11.2"
  }
 },
 "nbformat": 4,
 "nbformat_minor": 2
}
