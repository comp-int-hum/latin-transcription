{
 "cells": [
  {
   "cell_type": "code",
   "execution_count": 1,
   "metadata": {},
   "outputs": [],
   "source": [
    "import os\n",
    "from tqdm import tqdm\n",
    "import glob\n",
    "from xml.etree import ElementTree as ET\n",
    "import re\n",
    "import difflib\n",
    "from torchmetrics.text import CharErrorRate, WordErrorRate\n",
    "import jiwer\n",
    "import numpy as np\n",
    "#import cv2\n",
    "import matplotlib.pyplot as plt\n",
    "import cv2\n",
    "from shapely.affinity import scale\n",
    "import random\n"
   ]
  },
  {
   "cell_type": "code",
   "execution_count": 45,
   "metadata": {},
   "outputs": [],
   "source": [
    "BASE = \"/home/efittsc1/projects/latin-transcription/\"\n",
    "TRANSCRIBUS_SOURCE = BASE + \"transkribus_model_result/page\"\n",
    "GROUND_TRUTH_SOURCE = BASE + \"source\""
   ]
  },
  {
   "cell_type": "code",
   "execution_count": 46,
   "metadata": {},
   "outputs": [],
   "source": [
    "transcribus_files = glob.glob(os.path.join(TRANSCRIBUS_SOURCE, \"*.xml\"))\n",
    "transcribus_files_dics = {}\n",
    "\n",
    "for file in transcribus_files:\n",
    "    _, original_filename = os.path.basename(file).split(\"_\")\n",
    "    transcribus_files_dics[original_filename] = file\n",
    "\n"
   ]
  },
  {
   "cell_type": "code",
   "execution_count": 47,
   "metadata": {},
   "outputs": [],
   "source": [
    "def get_namespace(element):\n",
    "        m = re.match('\\{.*\\}', element.tag)\n",
    "        return m.group(0)[1:-1] if m else ''"
   ]
  },
  {
   "cell_type": "code",
   "execution_count": 48,
   "metadata": {},
   "outputs": [],
   "source": [
    "def extract_lines_from_xml(xml_file):\n",
    "    lines = []\n",
    "    #print(f\"Processing {xml_file}\")\n",
    "    tree = ET.parse(xml_file)\n",
    "    ns = {\"ns\": get_namespace(tree.getroot())}\n",
    "    ET.register_namespace('', ns['ns'])\n",
    "    root = tree.getroot()\n",
    "    try:\n",
    "        for text_region in root.findall('.//ns:TextRegion', ns):\n",
    "            for lineno, text_line in enumerate(text_region.findall('.//ns:TextLine', ns)):\n",
    "                text = text_line.find('.//ns:TextEquiv', ns).find('.//ns:Unicode', ns).text\n",
    "                if text is None:\n",
    "                    continue\n",
    "                baseline = text_line.find('ns:Baseline', ns).get('points')\n",
    "                #print(baseline)\n",
    "                baseline_list = np.array([p.split(\",\") for p in baseline.split(\" \")], dtype=int)\n",
    "                text = text.strip()\n",
    "                text = text.replace(\",\", \".\")\n",
    "                lines.append((text, baseline_list))\n",
    "    except Exception as e:\n",
    "        print(f\"Error processing {xml_file}: {e}\")\n",
    "    return lines\n"
   ]
  },
  {
   "cell_type": "code",
   "execution_count": 49,
   "metadata": {},
   "outputs": [],
   "source": [
    "transformation = jiwer.Compose([\n",
    "    jiwer.ToLowerCase(),\n",
    "    jiwer.RemovePunctuation(),\n",
    "    jiwer.RemoveMultipleSpaces(),\n",
    "    jiwer.Strip(),\n",
    "])"
   ]
  },
  {
   "cell_type": "code",
   "execution_count": 50,
   "metadata": {},
   "outputs": [
    {
     "name": "stderr",
     "output_type": "stream",
     "text": [
      "100%|██████████| 100/100 [00:00<00:00, 602629.89it/s]"
     ]
    },
    {
     "name": "stdout",
     "output_type": "stream",
     "text": [
      "JUST1-633m20.xml not found in transcribus files\n"
     ]
    },
    {
     "name": "stderr",
     "output_type": "stream",
     "text": [
      "\n"
     ]
    }
   ],
   "source": [
    "for filename in tqdm(glob.glob(GROUND_TRUTH_SOURCE + \"/*.xml\")):\n",
    "    if os.path.basename(filename) not in transcribus_files_dics:\n",
    "        print(f\"{os.path.basename(filename)} not found in transcribus files\")\n",
    "    #assert os.path.basename(filename) in transcribus_files_dics, f\"{os.path.basename(filename)} not found in transcribus files\""
   ]
  },
  {
   "cell_type": "code",
   "execution_count": 51,
   "metadata": {},
   "outputs": [],
   "source": [
    "def get_line_spacing(baselines):\n",
    "    center_x = np.median([(l.T[0][0] + l.T[0][-1])/2 for l in baselines])\n",
    "    \n",
    "    center_ys = []\n",
    "    for line in baselines:\n",
    "        xs, ys = line.T\n",
    "        center_ys.append(np.interp(center_x, xs, ys))\n",
    "\n",
    "    med_spacing = np.median(np.diff(center_ys))\n",
    "    return int(round(med_spacing))"
   ]
  },
  {
   "cell_type": "code",
   "execution_count": 52,
   "metadata": {},
   "outputs": [],
   "source": [
    "def box_from_baseline(baseline_points, med_spacing, height):\n",
    "        lower_spacing = int(round(0.23 * med_spacing))\n",
    "        upper_spacing = int(round(0.77 * med_spacing))\n",
    "    \n",
    "        baseline_points_polygon = [[max(p[0], 0), min(height-1, p[1])+lower_spacing] for p in baseline_points]\n",
    "        baseline_points_polygon += [[max(p[0], 0), max(0, p[1]-upper_spacing)] for p in baseline_points[::-1]]\n",
    "        return np.array(baseline_points_polygon, dtype=np.int32)"
   ]
  },
  {
   "cell_type": "code",
   "execution_count": 53,
   "metadata": {},
   "outputs": [],
   "source": [
    "from shapely.geometry import Polygon\n",
    "from shapely.strtree import STRtree"
   ]
  },
  {
   "cell_type": "code",
   "execution_count": null,
   "metadata": {},
   "outputs": [],
   "source": []
  },
  {
   "cell_type": "code",
   "execution_count": 54,
   "metadata": {},
   "outputs": [],
   "source": [
    "dirs = [ BASE +\"transkribus_model_result/images/matched_lines\", \"transkribus_model_result/images/unmatched_lines\"]\n",
    "\n",
    "for d in dirs:\n",
    "    if os.path.exists(d):\n",
    "        for f in os.listdir(d):\n",
    "            os.remove(os.path.join(d, f))\n",
    "        os.rmdir(d)\n",
    "    os.makedirs(d)\n",
    "    "
   ]
  },
  {
   "cell_type": "code",
   "execution_count": 55,
   "metadata": {},
   "outputs": [],
   "source": [
    "def polygon_to_points(polygon):\n",
    "    array= np.array(polygon.exterior.coords, dtype=np.int32)\n",
    "    return array[:-1]"
   ]
  },
  {
   "cell_type": "code",
   "execution_count": 56,
   "metadata": {},
   "outputs": [],
   "source": [
    "def scale_np_array_y(array, scale):\n",
    "    array = array.astype(float)\n",
    "    x_values = array.T[0]\n",
    "    y_values = array.T[1]\n",
    "    x_values_unique = np.unique(x_values)\n",
    "    \n",
    "    for x in x_values_unique:\n",
    "        indices = np.where(x_values == x)\n",
    "        midpoint = np.mean(y_values[indices])\n",
    "        y_values[indices] = scale * (y_values[indices] - midpoint) + midpoint\n",
    "    return np.array([x_values, y_values]).T.astype(int)\n"
   ]
  },
  {
   "cell_type": "code",
   "execution_count": 57,
   "metadata": {},
   "outputs": [
    {
     "name": "stderr",
     "output_type": "stream",
     "text": [
      "  0%|          | 0/100 [00:00<?, ?it/s]"
     ]
    },
    {
     "name": "stderr",
     "output_type": "stream",
     "text": [
      "  1%|          | 1/100 [00:00<00:27,  3.66it/s]"
     ]
    },
    {
     "name": "stdout",
     "output_type": "stream",
     "text": [
      "Unmatched polygons for /home/efittsc1/projects/latin-transcription/source/JUST1-734m3d.xml\n"
     ]
    },
    {
     "name": "stderr",
     "output_type": "stream",
     "text": [
      "  2%|▏         | 2/100 [00:00<00:32,  3.01it/s]"
     ]
    },
    {
     "name": "stdout",
     "output_type": "stream",
     "text": [
      "Unmatched polygons for /home/efittsc1/projects/latin-transcription/source/JUST1-633m84d.xml\n"
     ]
    },
    {
     "name": "stderr",
     "output_type": "stream",
     "text": [
      "  3%|▎         | 3/100 [00:00<00:28,  3.42it/s]"
     ]
    },
    {
     "name": "stdout",
     "output_type": "stream",
     "text": [
      "Unmatched polygons for /home/efittsc1/projects/latin-transcription/source/JUST1-635m13f.xml\n"
     ]
    },
    {
     "name": "stderr",
     "output_type": "stream",
     "text": [
      "  4%|▍         | 4/100 [00:01<00:26,  3.65it/s]"
     ]
    },
    {
     "name": "stdout",
     "output_type": "stream",
     "text": [
      "Unmatched polygons for /home/efittsc1/projects/latin-transcription/source/JUST1-633m48d.xml\n"
     ]
    },
    {
     "name": "stderr",
     "output_type": "stream",
     "text": [
      "  5%|▌         | 5/100 [00:01<00:21,  4.35it/s]"
     ]
    },
    {
     "name": "stdout",
     "output_type": "stream",
     "text": [
      "Unmatched polygons for /home/efittsc1/projects/latin-transcription/source/JUST1-632m3d.xml\n"
     ]
    },
    {
     "name": "stderr",
     "output_type": "stream",
     "text": [
      "  8%|▊         | 8/100 [00:01<00:14,  6.36it/s]"
     ]
    },
    {
     "name": "stdout",
     "output_type": "stream",
     "text": [
      "Unmatched polygons for /home/efittsc1/projects/latin-transcription/source/memb2.xml\n",
      "Unmatched polygons for /home/efittsc1/projects/latin-transcription/source/JUST1-734m3.xml\n"
     ]
    },
    {
     "name": "stderr",
     "output_type": "stream",
     "text": [
      "  9%|▉         | 9/100 [00:01<00:16,  5.47it/s]"
     ]
    },
    {
     "name": "stdout",
     "output_type": "stream",
     "text": [
      "Unmatched polygons for /home/efittsc1/projects/latin-transcription/source/JUST1-734m11.xml\n"
     ]
    },
    {
     "name": "stderr",
     "output_type": "stream",
     "text": [
      " 10%|█         | 10/100 [00:02<00:19,  4.55it/s]"
     ]
    },
    {
     "name": "stdout",
     "output_type": "stream",
     "text": [
      "Unmatched polygons for /home/efittsc1/projects/latin-transcription/source/JUST1-820m18.xml\n"
     ]
    },
    {
     "name": "stderr",
     "output_type": "stream",
     "text": [
      " 11%|█         | 11/100 [00:02<00:18,  4.78it/s]"
     ]
    },
    {
     "name": "stdout",
     "output_type": "stream",
     "text": [
      "Unmatched polygons for /home/efittsc1/projects/latin-transcription/source/JUST1-633m2d.xml\n"
     ]
    },
    {
     "name": "stderr",
     "output_type": "stream",
     "text": [
      " 15%|█▌        | 15/100 [00:02<00:09,  8.59it/s]"
     ]
    },
    {
     "name": "stdout",
     "output_type": "stream",
     "text": [
      "Unmatched polygons for /home/efittsc1/projects/latin-transcription/source/norw5.xml\n",
      "Unmatched polygons for /home/efittsc1/projects/latin-transcription/source/norw2.xml\n",
      "Unmatched polygons for /home/efittsc1/projects/latin-transcription/source/JUST1-734m2.xml\n"
     ]
    },
    {
     "name": "stderr",
     "output_type": "stream",
     "text": [
      " 16%|█▌        | 16/100 [00:02<00:10,  7.64it/s]"
     ]
    },
    {
     "name": "stdout",
     "output_type": "stream",
     "text": [
      "Unmatched polygons for /home/efittsc1/projects/latin-transcription/source/JUST1-734m13.xml\n",
      "Unmatched polygons for /home/efittsc1/projects/latin-transcription/source/JUST1-635m35d.xml\n"
     ]
    },
    {
     "name": "stderr",
     "output_type": "stream",
     "text": [
      " 18%|█▊        | 18/100 [00:03<00:09,  8.98it/s]"
     ]
    },
    {
     "name": "stdout",
     "output_type": "stream",
     "text": [
      "Unmatched polygons for /home/efittsc1/projects/latin-transcription/source/memb1.xml\n",
      "Unmatched polygons for /home/efittsc1/projects/latin-transcription/source/JUST1-734m15d.xml\n"
     ]
    },
    {
     "name": "stderr",
     "output_type": "stream",
     "text": [
      " 19%|█▉        | 19/100 [00:03<00:10,  7.99it/s]"
     ]
    },
    {
     "name": "stdout",
     "output_type": "stream",
     "text": [
      "Unmatched polygons for /home/efittsc1/projects/latin-transcription/source/norw6.xml\n",
      "Unmatched polygons for /home/efittsc1/projects/latin-transcription/source/JUST1-734m13d.xml\n"
     ]
    },
    {
     "name": "stderr",
     "output_type": "stream",
     "text": [
      " 22%|██▏       | 22/100 [00:03<00:12,  6.06it/s]"
     ]
    },
    {
     "name": "stdout",
     "output_type": "stream",
     "text": [
      "Unmatched polygons for /home/efittsc1/projects/latin-transcription/source/JUST1-734m4.xml\n"
     ]
    },
    {
     "name": "stderr",
     "output_type": "stream",
     "text": [
      " 23%|██▎       | 23/100 [00:04<00:13,  5.54it/s]"
     ]
    },
    {
     "name": "stdout",
     "output_type": "stream",
     "text": [
      "Unmatched polygons for /home/efittsc1/projects/latin-transcription/source/JUST1-734m17.xml\n",
      "Unmatched polygons for /home/efittsc1/projects/latin-transcription/source/JUST1-633m5a.xml\n"
     ]
    },
    {
     "name": "stderr",
     "output_type": "stream",
     "text": [
      " 26%|██▌       | 26/100 [00:04<00:15,  4.63it/s]"
     ]
    },
    {
     "name": "stdout",
     "output_type": "stream",
     "text": [
      "Unmatched polygons for /home/efittsc1/projects/latin-transcription/source/JUST1-633m58.xml\n",
      "Unmatched polygons for /home/efittsc1/projects/latin-transcription/source/norw4.xml\n"
     ]
    },
    {
     "name": "stderr",
     "output_type": "stream",
     "text": [
      " 28%|██▊       | 28/100 [00:04<00:11,  6.07it/s]"
     ]
    },
    {
     "name": "stdout",
     "output_type": "stream",
     "text": [
      "Unmatched polygons for /home/efittsc1/projects/latin-transcription/source/JUST1-734m8d.xml\n",
      "Unmatched polygons for /home/efittsc1/projects/latin-transcription/source/JUST1-734m2d.xml\n"
     ]
    },
    {
     "name": "stderr",
     "output_type": "stream",
     "text": [
      " 30%|███       | 30/100 [00:05<00:11,  6.12it/s]"
     ]
    },
    {
     "name": "stdout",
     "output_type": "stream",
     "text": [
      "Unmatched polygons for /home/efittsc1/projects/latin-transcription/source/JUST1-633m52.xml\n"
     ]
    },
    {
     "name": "stderr",
     "output_type": "stream",
     "text": [
      " 32%|███▏      | 32/100 [00:05<00:14,  4.64it/s]"
     ]
    },
    {
     "name": "stdout",
     "output_type": "stream",
     "text": [
      "Unmatched polygons for /home/efittsc1/projects/latin-transcription/source/JUST1-734m4da.xml\n"
     ]
    },
    {
     "name": "stderr",
     "output_type": "stream",
     "text": [
      " 33%|███▎      | 33/100 [00:05<00:12,  5.18it/s]"
     ]
    },
    {
     "name": "stdout",
     "output_type": "stream",
     "text": [
      "Unmatched polygons for /home/efittsc1/projects/latin-transcription/source/JUST1-734m5da.xml\n",
      "Unmatched polygons for /home/efittsc1/projects/latin-transcription/source/JUST1-635m6.xml\n",
      "Unmatched polygons for /home/efittsc1/projects/latin-transcription/source/JUST1-635m37.xml\n"
     ]
    },
    {
     "name": "stderr",
     "output_type": "stream",
     "text": [
      " 36%|███▌      | 36/100 [00:06<00:08,  7.12it/s]"
     ]
    },
    {
     "name": "stdout",
     "output_type": "stream",
     "text": [
      "Unmatched polygons for /home/efittsc1/projects/latin-transcription/source/JUST1-734m7a.xml\n",
      "Unmatched polygons for /home/efittsc1/projects/latin-transcription/source/JUST1-277m15da.xml\n"
     ]
    },
    {
     "name": "stderr",
     "output_type": "stream",
     "text": [
      " 39%|███▉      | 39/100 [00:06<00:08,  6.86it/s]"
     ]
    },
    {
     "name": "stdout",
     "output_type": "stream",
     "text": [
      "Unmatched polygons for /home/efittsc1/projects/latin-transcription/source/JUST1-734m30d.xml\n",
      "Unmatched polygons for /home/efittsc1/projects/latin-transcription/source/JUST1-635m6f.xml\n"
     ]
    },
    {
     "name": "stderr",
     "output_type": "stream",
     "text": [
      " 41%|████      | 41/100 [00:06<00:07,  7.39it/s]"
     ]
    },
    {
     "name": "stdout",
     "output_type": "stream",
     "text": [
      "Unmatched polygons for /home/efittsc1/projects/latin-transcription/source/JUST1-633m38d.xml\n",
      "Unmatched polygons for /home/efittsc1/projects/latin-transcription/source/norw1.xml\n",
      "Unmatched polygons for /home/efittsc1/projects/latin-transcription/source/JUST1-633m16d.xml\n"
     ]
    },
    {
     "name": "stderr",
     "output_type": "stream",
     "text": [
      " 45%|████▌     | 45/100 [00:07<00:07,  7.24it/s]"
     ]
    },
    {
     "name": "stdout",
     "output_type": "stream",
     "text": [
      "Unmatched polygons for /home/efittsc1/projects/latin-transcription/source/JUST1-635m12d.xml\n",
      "Unmatched polygons for /home/efittsc1/projects/latin-transcription/source/JUST1-635m36d.xml\n"
     ]
    },
    {
     "name": "stderr",
     "output_type": "stream",
     "text": [
      " 47%|████▋     | 47/100 [00:07<00:09,  5.56it/s]"
     ]
    },
    {
     "name": "stdout",
     "output_type": "stream",
     "text": [
      "Unmatched polygons for /home/efittsc1/projects/latin-transcription/source/JUST1-633m31.xml\n"
     ]
    },
    {
     "name": "stderr",
     "output_type": "stream",
     "text": [
      " 48%|████▊     | 48/100 [00:08<00:09,  5.38it/s]"
     ]
    },
    {
     "name": "stdout",
     "output_type": "stream",
     "text": [
      "Unmatched polygons for /home/efittsc1/projects/latin-transcription/source/JUST1-633m3d.xml\n",
      "Unmatched polygons for /home/efittsc1/projects/latin-transcription/source/JUST1-635m95.xml\n"
     ]
    },
    {
     "name": "stderr",
     "output_type": "stream",
     "text": [
      " 49%|████▉     | 49/100 [00:08<00:09,  5.48it/s]"
     ]
    },
    {
     "name": "stdout",
     "output_type": "stream",
     "text": [
      "Unmatched polygons for /home/efittsc1/projects/latin-transcription/source/JUST1-277m15d.xml\n"
     ]
    },
    {
     "name": "stderr",
     "output_type": "stream",
     "text": [
      " 51%|█████     | 51/100 [00:08<00:11,  4.41it/s]"
     ]
    },
    {
     "name": "stdout",
     "output_type": "stream",
     "text": [
      "Unmatched polygons for /home/efittsc1/projects/latin-transcription/source/JUST1-734m17d.xml\n"
     ]
    },
    {
     "name": "stderr",
     "output_type": "stream",
     "text": [
      " 53%|█████▎    | 53/100 [00:09<00:10,  4.61it/s]"
     ]
    },
    {
     "name": "stdout",
     "output_type": "stream",
     "text": [
      "Unmatched polygons for /home/efittsc1/projects/latin-transcription/source/JUST1-734m6da.xml\n"
     ]
    },
    {
     "name": "stderr",
     "output_type": "stream",
     "text": [
      " 54%|█████▍    | 54/100 [00:09<00:11,  4.10it/s]"
     ]
    },
    {
     "name": "stdout",
     "output_type": "stream",
     "text": [
      "Unmatched polygons for /home/efittsc1/projects/latin-transcription/source/JUST1-633m45d.xml\n"
     ]
    },
    {
     "name": "stderr",
     "output_type": "stream",
     "text": [
      " 55%|█████▌    | 55/100 [00:09<00:12,  3.69it/s]"
     ]
    },
    {
     "name": "stdout",
     "output_type": "stream",
     "text": [
      "Unmatched polygons for /home/efittsc1/projects/latin-transcription/source/JUST-633m12d.xml\n"
     ]
    },
    {
     "name": "stderr",
     "output_type": "stream",
     "text": [
      " 56%|█████▌    | 56/100 [00:10<00:10,  4.17it/s]"
     ]
    },
    {
     "name": "stdout",
     "output_type": "stream",
     "text": [
      "Unmatched polygons for /home/efittsc1/projects/latin-transcription/source/JUST1-633m32.xml\n",
      "Unmatched polygons for /home/efittsc1/projects/latin-transcription/source/JUST1-633m21d.xml\n"
     ]
    },
    {
     "name": "stderr",
     "output_type": "stream",
     "text": [
      " 58%|█████▊    | 58/100 [00:10<00:07,  5.68it/s]"
     ]
    },
    {
     "name": "stdout",
     "output_type": "stream",
     "text": [
      "Unmatched polygons for /home/efittsc1/projects/latin-transcription/source/JUST1-230m2.xml\n",
      "Unmatched polygons for /home/efittsc1/projects/latin-transcription/source/JUST1-734m11d.xml\n"
     ]
    },
    {
     "name": "stderr",
     "output_type": "stream",
     "text": [
      " 60%|██████    | 60/100 [00:10<00:08,  4.70it/s]"
     ]
    },
    {
     "name": "stdout",
     "output_type": "stream",
     "text": [
      "Unmatched polygons for /home/efittsc1/projects/latin-transcription/source/JUST1-734m14da.xml\n"
     ]
    },
    {
     "name": "stderr",
     "output_type": "stream",
     "text": [
      " 61%|██████    | 61/100 [00:11<00:08,  4.61it/s]"
     ]
    },
    {
     "name": "stdout",
     "output_type": "stream",
     "text": [
      "Unmatched polygons for /home/efittsc1/projects/latin-transcription/source/JUST1-734m29.xml\n"
     ]
    },
    {
     "name": "stderr",
     "output_type": "stream",
     "text": [
      " 63%|██████▎   | 63/100 [00:11<00:09,  4.10it/s]"
     ]
    },
    {
     "name": "stdout",
     "output_type": "stream",
     "text": [
      "Unmatched polygons for /home/efittsc1/projects/latin-transcription/source/JUST1-734m15a.xml\n"
     ]
    },
    {
     "name": "stderr",
     "output_type": "stream",
     "text": [
      " 66%|██████▌   | 66/100 [00:12<00:06,  5.56it/s]"
     ]
    },
    {
     "name": "stdout",
     "output_type": "stream",
     "text": [
      "Unmatched polygons for /home/efittsc1/projects/latin-transcription/source/JUST1-734m12.xml\n"
     ]
    },
    {
     "name": "stderr",
     "output_type": "stream",
     "text": [
      " 69%|██████▉   | 69/100 [00:12<00:04,  6.22it/s]"
     ]
    },
    {
     "name": "stdout",
     "output_type": "stream",
     "text": [
      "Unmatched polygons for /home/efittsc1/projects/latin-transcription/source/JUST1-235m13.xml\n",
      "Unmatched polygons for /home/efittsc1/projects/latin-transcription/source/JUST1-734m7.xml\n"
     ]
    },
    {
     "name": "stderr",
     "output_type": "stream",
     "text": [
      " 72%|███████▏  | 72/100 [00:13<00:05,  5.35it/s]"
     ]
    },
    {
     "name": "stdout",
     "output_type": "stream",
     "text": [
      "Unmatched polygons for /home/efittsc1/projects/latin-transcription/source/JUST1-633m80.xml\n"
     ]
    },
    {
     "name": "stderr",
     "output_type": "stream",
     "text": [
      " 75%|███████▌  | 75/100 [00:13<00:03,  7.05it/s]"
     ]
    },
    {
     "name": "stdout",
     "output_type": "stream",
     "text": [
      "Unmatched polygons for /home/efittsc1/projects/latin-transcription/source/norw7.xml\n"
     ]
    },
    {
     "name": "stderr",
     "output_type": "stream",
     "text": [
      " 76%|███████▌  | 76/100 [00:13<00:03,  6.41it/s]"
     ]
    },
    {
     "name": "stdout",
     "output_type": "stream",
     "text": [
      "Unmatched polygons for /home/efittsc1/projects/latin-transcription/source/JUST1-635m89.xml\n"
     ]
    },
    {
     "name": "stderr",
     "output_type": "stream",
     "text": [
      " 77%|███████▋  | 77/100 [00:13<00:04,  4.92it/s]"
     ]
    },
    {
     "name": "stdout",
     "output_type": "stream",
     "text": [
      "Unmatched polygons for /home/efittsc1/projects/latin-transcription/source/JUST-633m38.xml\n"
     ]
    },
    {
     "name": "stderr",
     "output_type": "stream",
     "text": [
      " 78%|███████▊  | 78/100 [00:13<00:03,  5.53it/s]"
     ]
    },
    {
     "name": "stdout",
     "output_type": "stream",
     "text": [
      "Unmatched polygons for /home/efittsc1/projects/latin-transcription/source/norw3.xml\n",
      "Unmatched polygons for /home/efittsc1/projects/latin-transcription/source/JUST1-633m167d.xml\n"
     ]
    },
    {
     "name": "stderr",
     "output_type": "stream",
     "text": [
      " 82%|████████▏ | 82/100 [00:14<00:02,  6.99it/s]"
     ]
    },
    {
     "name": "stdout",
     "output_type": "stream",
     "text": [
      "Unmatched polygons for /home/efittsc1/projects/latin-transcription/source/JUST1-734m5a.xml\n"
     ]
    },
    {
     "name": "stderr",
     "output_type": "stream",
     "text": [
      " 83%|████████▎ | 83/100 [00:14<00:03,  5.59it/s]"
     ]
    },
    {
     "name": "stdout",
     "output_type": "stream",
     "text": [
      "Unmatched polygons for /home/efittsc1/projects/latin-transcription/source/JUST1-734m23d.xml\n"
     ]
    },
    {
     "name": "stderr",
     "output_type": "stream",
     "text": [
      " 84%|████████▍ | 84/100 [00:15<00:03,  4.49it/s]"
     ]
    },
    {
     "name": "stdout",
     "output_type": "stream",
     "text": [
      "Unmatched polygons for /home/efittsc1/projects/latin-transcription/source/JUST1-734m6d.xml\n"
     ]
    },
    {
     "name": "stderr",
     "output_type": "stream",
     "text": [
      " 85%|████████▌ | 85/100 [00:15<00:02,  5.03it/s]"
     ]
    },
    {
     "name": "stdout",
     "output_type": "stream",
     "text": [
      "Unmatched polygons for /home/efittsc1/projects/latin-transcription/source/JUST1-734m8.xml\n",
      "Unmatched polygons for /home/efittsc1/projects/latin-transcription/source/JUST1-734m1.xml\n"
     ]
    },
    {
     "name": "stderr",
     "output_type": "stream",
     "text": [
      " 87%|████████▋ | 87/100 [00:15<00:02,  4.71it/s]"
     ]
    },
    {
     "name": "stdout",
     "output_type": "stream",
     "text": [
      "Unmatched polygons for /home/efittsc1/projects/latin-transcription/source/JUST1-734m10d.xml\n"
     ]
    },
    {
     "name": "stderr",
     "output_type": "stream",
     "text": [
      " 88%|████████▊ | 88/100 [00:15<00:02,  4.56it/s]"
     ]
    },
    {
     "name": "stdout",
     "output_type": "stream",
     "text": [
      "Unmatched polygons for /home/efittsc1/projects/latin-transcription/source/JUST-633m11.xml\n"
     ]
    },
    {
     "name": "stderr",
     "output_type": "stream",
     "text": [
      " 89%|████████▉ | 89/100 [00:16<00:02,  4.13it/s]"
     ]
    },
    {
     "name": "stdout",
     "output_type": "stream",
     "text": [
      "Unmatched polygons for /home/efittsc1/projects/latin-transcription/source/JUST1-734m32d.xml\n"
     ]
    },
    {
     "name": "stderr",
     "output_type": "stream",
     "text": [
      " 90%|█████████ | 90/100 [00:16<00:02,  4.02it/s]"
     ]
    },
    {
     "name": "stdout",
     "output_type": "stream",
     "text": [
      "Unmatched polygons for /home/efittsc1/projects/latin-transcription/source/JUST1-734m18d.xml\n",
      "Unmatched polygons for /home/efittsc1/projects/latin-transcription/source/JUST1-633m5.xml\n"
     ]
    },
    {
     "name": "stderr",
     "output_type": "stream",
     "text": [
      " 92%|█████████▏| 92/100 [00:17<00:02,  2.99it/s]"
     ]
    },
    {
     "name": "stdout",
     "output_type": "stream",
     "text": [
      "Unmatched polygons for /home/efittsc1/projects/latin-transcription/source/JUST1-633m22.xml\n"
     ]
    },
    {
     "name": "stderr",
     "output_type": "stream",
     "text": [
      " 94%|█████████▍| 94/100 [00:17<00:01,  4.31it/s]"
     ]
    },
    {
     "name": "stdout",
     "output_type": "stream",
     "text": [
      "Unmatched polygons for /home/efittsc1/projects/latin-transcription/source/JUST1-734m3a.xml\n",
      "Unmatched polygons for /home/efittsc1/projects/latin-transcription/source/JUST1-734m18.xml\n"
     ]
    },
    {
     "name": "stderr",
     "output_type": "stream",
     "text": [
      " 96%|█████████▌| 96/100 [00:17<00:00,  4.91it/s]"
     ]
    },
    {
     "name": "stdout",
     "output_type": "stream",
     "text": [
      "Unmatched polygons for /home/efittsc1/projects/latin-transcription/source/JUST-633m20.xml\n"
     ]
    },
    {
     "name": "stderr",
     "output_type": "stream",
     "text": [
      " 97%|█████████▋| 97/100 [00:18<00:00,  4.52it/s]"
     ]
    },
    {
     "name": "stdout",
     "output_type": "stream",
     "text": [
      "Unmatched polygons for /home/efittsc1/projects/latin-transcription/source/JUST1-734m12d.xml\n"
     ]
    },
    {
     "name": "stderr",
     "output_type": "stream",
     "text": [
      " 98%|█████████▊| 98/100 [00:18<00:00,  5.01it/s]"
     ]
    },
    {
     "name": "stdout",
     "output_type": "stream",
     "text": [
      "Unmatched polygons for /home/efittsc1/projects/latin-transcription/source/JUST1-734m3b.xml\n"
     ]
    },
    {
     "name": "stderr",
     "output_type": "stream",
     "text": [
      " 99%|█████████▉| 99/100 [00:18<00:00,  4.44it/s]"
     ]
    },
    {
     "name": "stdout",
     "output_type": "stream",
     "text": [
      "Unmatched polygons for /home/efittsc1/projects/latin-transcription/source/JUST1-633m9d.xml\n"
     ]
    },
    {
     "name": "stderr",
     "output_type": "stream",
     "text": [
      "100%|██████████| 100/100 [00:18<00:00,  5.28it/s]"
     ]
    },
    {
     "name": "stdout",
     "output_type": "stream",
     "text": [
      "Unmatched polygons for /home/efittsc1/projects/latin-transcription/source/JUST1-734m17da.xml\n"
     ]
    },
    {
     "name": "stderr",
     "output_type": "stream",
     "text": [
      "\n"
     ]
    }
   ],
   "source": [
    "char_error_rate = CharErrorRate()\n",
    "word_error_rate = WordErrorRate()\n",
    "\n",
    "data = {}\n",
    "\n",
    "for filename in tqdm(glob.glob(GROUND_TRUTH_SOURCE + \"/*.xml\")):\n",
    "    if os.path.basename(filename) not in transcribus_files_dics:\n",
    "        continue\n",
    "    transkribus_file = transcribus_files_dics[os.path.basename(filename)]\n",
    "    ground_truth_file = filename\n",
    "    transkribus_lines = extract_lines_from_xml(transkribus_file)\n",
    "    ground_truth_lines = extract_lines_from_xml(ground_truth_file)\n",
    "    t_lines = [t[0] for t in transkribus_lines]\n",
    "    gt_lines = [t[0] for t in ground_truth_lines]\n",
    "\n",
    "    t_baselines = [t[1] for t in transkribus_lines]\n",
    "    gt_baselines = [t[1] for t in ground_truth_lines]\n",
    "\n",
    "    try:\n",
    "        #med_spacing_t = get_line_spacing(t_baselines)\n",
    "        med_spacing_gt = get_line_spacing(gt_baselines)\n",
    "    except Exception as e:\n",
    "        print(filename)\n",
    "        print(f\"transkribus_lines: {t_baselines}\")\n",
    "        print(f\"ground_truth_lines: {gt_baselines}\")\n",
    "        print(f\"Error processing {filename}: {e}\")\n",
    "        continue\n",
    "\n",
    "    image_path = filename.replace(\".xml\", \".jpeg\")\n",
    "    if not os.path.exists(image_path):\n",
    "        image_path = filename.replace(\".xml\", \".jpg\")\n",
    "    if not os.path.exists(image_path):\n",
    "        image_path = filename.replace(\".xml\", \".png\")\n",
    "    if not os.path.exists(image_path):\n",
    "        raise Exception(f\"Image not found for {filename}\")\n",
    "    \n",
    "\n",
    "    image = cv2.imread(image_path)\n",
    "    height, width, _ = image.shape\n",
    "\n",
    "    def get_bbx(np_array):\n",
    "        x = np_array[:, 0]\n",
    "        y = np_array[:, 1]\n",
    "        return np.array([[np.min(x), np.min(y)], [np.max(x), np.max(y)]])\n",
    "    \n",
    "    t_bounding_boxes = [get_bbx(t[1]) for t in transkribus_lines]\n",
    "    gt_bounding_boxes = [get_bbx(t[1]) for t in ground_truth_lines]\n",
    "\n",
    "    t_polygons = [box_from_baseline(t[1], med_spacing_gt, height) for t in transkribus_lines]\n",
    "    gt_polygons = [box_from_baseline(t[1], med_spacing_gt, height) for t in ground_truth_lines]\n",
    "\n",
    "    shapely_t_polygons = [Polygon(p.tolist()) for p in t_polygons]\n",
    "    shapely_gt_polygons = [Polygon(p.tolist()) for p in gt_polygons]\n",
    "\n",
    "    gt_strtree = STRtree(shapely_gt_polygons)\n",
    "\n",
    "    matched_polygons = []\n",
    "\n",
    "    for i, t_polygon in enumerate(shapely_t_polygons):\n",
    "        possible_matches = gt_strtree.query(t_polygon)\n",
    "        scaled_t_polygon = Polygon(scale_np_array_y(polygon_to_points(t_polygon), 1.6).tolist())\n",
    "        for match_idx in possible_matches:\n",
    "            match = shapely_gt_polygons[match_idx]\n",
    "            scaled_match = Polygon(scale_np_array_y(polygon_to_points(match), 1.6).tolist())\n",
    "            intersection = t_polygon.intersection(scaled_match)\n",
    "            intersection2 = scaled_t_polygon.intersection(match)\n",
    "            if intersection.area > 0.9 * t_polygon.area and intersection2.area > 0.9 * match.area:\n",
    "                matched_polygons.append((i, shapely_gt_polygons.index(match)))\n",
    "            \n",
    "    \n",
    "    for i, j in matched_polygons:\n",
    "        random_color = (np.random.randint(0, 255), np.random.randint(0, 255), np.random.randint(0, 255))\n",
    "        cv2.polylines(image, [t_polygons[i]], isClosed=True, color=random_color, thickness=3)\n",
    "        cv2.polylines(image, [gt_polygons[j]], isClosed=True, color=random_color, thickness=2)\n",
    "    # save image to images/works\n",
    "    filename_ = \"images/matched_lines/\" + os.path.basename(filename).split('.')[0] + \".png\"\n",
    "    cv2.imwrite(filename_, image)\n",
    "\n",
    "    \n",
    "    unmatched_polygons_t = [i for i in range(len(t_polygons)) if i not in [m[0] for m in matched_polygons]]\n",
    "    unmatched_polygons_gt = [i for i in range(len(gt_polygons)) if i not in [m[1] for m in matched_polygons]]\n",
    "\n",
    "    if len(unmatched_polygons_t + unmatched_polygons_gt) != 0:\n",
    "        new_image = cv2.imread(image_path)\n",
    "        print(f\"Unmatched polygons for {filename}\")\n",
    "        for i in unmatched_polygons_t:\n",
    "            cv2.polylines(new_image, [t_polygons[i]], isClosed=True, color=(0, 255, 0), thickness=3)\n",
    "        for i in unmatched_polygons_gt:\n",
    "            cv2.polylines(new_image, [gt_polygons[i]], isClosed=True, color=(255, 0, 0), thickness=2)\n",
    "        \n",
    "        stacked_image = np.vstack([image, new_image])\n",
    "        filename_ = \"images/unmatched_lines/\" + os.path.basename(filename).split('.')[0] + \".png\"\n",
    "        cv2.imwrite(filename_, stacked_image)\n",
    "\n",
    "    data[os.path.basename(filename)] = {}\n",
    "    for index, (i, j) in enumerate(matched_polygons):\n",
    "        gt = transformation(ground_truth_lines[j][0])\n",
    "        hyp = transformation(transkribus_lines[i][0])\n",
    "\n",
    "        char_error_rate.update(hyp, gt)\n",
    "        word_error_rate.update(hyp, gt)\n",
    "\n",
    "        data[os.path.basename(filename)][index] = {\n",
    "            \"ground_truth\": ground_truth_lines[j][0],\n",
    "            \"hypothesis\": transkribus_lines[i][0],\n",
    "            \"ground_truth_index\": j,\n",
    "            \"hypothesis_index\": i,\n",
    "        }\n"
   ]
  },
  {
   "cell_type": "code",
   "execution_count": 58,
   "metadata": {},
   "outputs": [],
   "source": [
    "character_error_rate_ = float(char_error_rate.compute())\n",
    "word_error_rate_ = float(word_error_rate.compute())\n"
   ]
  },
  {
   "cell_type": "code",
   "execution_count": 59,
   "metadata": {},
   "outputs": [
    {
     "name": "stdout",
     "output_type": "stream",
     "text": [
      "Character Error Rate: 0.22566388547420502\n",
      "Word Error Rate: 0.5422852039337158\n"
     ]
    }
   ],
   "source": [
    "print(f\"Character Error Rate: {character_error_rate_}\")\n",
    "print(f\"Word Error Rate: {word_error_rate_}\")"
   ]
  },
  {
   "cell_type": "code",
   "execution_count": 60,
   "metadata": {},
   "outputs": [
    {
     "name": "stderr",
     "output_type": "stream",
     "text": [
      "  1%|          | 1/99 [00:02<04:09,  2.55s/it]\n"
     ]
    },
    {
     "ename": "KeyboardInterrupt",
     "evalue": "",
     "output_type": "error",
     "traceback": [
      "\u001b[0;31m---------------------------------------------------------------------------\u001b[0m",
      "\u001b[0;31mKeyboardInterrupt\u001b[0m                         Traceback (most recent call last)",
      "Cell \u001b[0;32mIn[60], line 23\u001b[0m\n\u001b[1;32m     20\u001b[0m gt \u001b[38;5;241m=\u001b[39m transformation(ground_truth_text)\n\u001b[1;32m     21\u001b[0m hyp \u001b[38;5;241m=\u001b[39m transformation(transkribus_text)  \n\u001b[0;32m---> 23\u001b[0m \u001b[43mchar_error_rate_old\u001b[49m\u001b[38;5;241;43m.\u001b[39;49m\u001b[43mupdate\u001b[49m\u001b[43m(\u001b[49m\u001b[43mhyp\u001b[49m\u001b[43m,\u001b[49m\u001b[43m \u001b[49m\u001b[43mgt\u001b[49m\u001b[43m)\u001b[49m\n\u001b[1;32m     24\u001b[0m word_error_rate_old\u001b[38;5;241m.\u001b[39mupdate(hyp, gt)\n\u001b[1;32m     26\u001b[0m data_old[os\u001b[38;5;241m.\u001b[39mpath\u001b[38;5;241m.\u001b[39mbasename(filename)] \u001b[38;5;241m=\u001b[39m {\n\u001b[1;32m     27\u001b[0m     \u001b[38;5;124m\"\u001b[39m\u001b[38;5;124mground_truth\u001b[39m\u001b[38;5;124m\"\u001b[39m: ground_truth_text,\n\u001b[1;32m     28\u001b[0m     \u001b[38;5;124m\"\u001b[39m\u001b[38;5;124mhypothesis\u001b[39m\u001b[38;5;124m\"\u001b[39m: transkribus_text,\n\u001b[1;32m     29\u001b[0m }\n",
      "File \u001b[0;32m~/projects/latin-transcription/.venv/lib/python3.11/site-packages/torchmetrics/metric.py:483\u001b[0m, in \u001b[0;36mMetric._wrap_update.<locals>.wrapped_func\u001b[0;34m(*args, **kwargs)\u001b[0m\n\u001b[1;32m    481\u001b[0m \u001b[38;5;28;01mwith\u001b[39;00m torch\u001b[38;5;241m.\u001b[39mset_grad_enabled(\u001b[38;5;28mself\u001b[39m\u001b[38;5;241m.\u001b[39m_enable_grad):\n\u001b[1;32m    482\u001b[0m     \u001b[38;5;28;01mtry\u001b[39;00m:\n\u001b[0;32m--> 483\u001b[0m         \u001b[43mupdate\u001b[49m\u001b[43m(\u001b[49m\u001b[38;5;241;43m*\u001b[39;49m\u001b[43margs\u001b[49m\u001b[43m,\u001b[49m\u001b[43m \u001b[49m\u001b[38;5;241;43m*\u001b[39;49m\u001b[38;5;241;43m*\u001b[39;49m\u001b[43mkwargs\u001b[49m\u001b[43m)\u001b[49m\n\u001b[1;32m    484\u001b[0m     \u001b[38;5;28;01mexcept\u001b[39;00m \u001b[38;5;167;01mRuntimeError\u001b[39;00m \u001b[38;5;28;01mas\u001b[39;00m err:\n\u001b[1;32m    485\u001b[0m         \u001b[38;5;28;01mif\u001b[39;00m \u001b[38;5;124m\"\u001b[39m\u001b[38;5;124mExpected all tensors to be on\u001b[39m\u001b[38;5;124m\"\u001b[39m \u001b[38;5;129;01min\u001b[39;00m \u001b[38;5;28mstr\u001b[39m(err):\n",
      "File \u001b[0;32m~/projects/latin-transcription/.venv/lib/python3.11/site-packages/torchmetrics/text/cer.py:89\u001b[0m, in \u001b[0;36mCharErrorRate.update\u001b[0;34m(self, preds, target)\u001b[0m\n\u001b[1;32m     87\u001b[0m \u001b[38;5;28;01mdef\u001b[39;00m \u001b[38;5;21mupdate\u001b[39m(\u001b[38;5;28mself\u001b[39m, preds: Union[\u001b[38;5;28mstr\u001b[39m, List[\u001b[38;5;28mstr\u001b[39m]], target: Union[\u001b[38;5;28mstr\u001b[39m, List[\u001b[38;5;28mstr\u001b[39m]]) \u001b[38;5;241m-\u001b[39m\u001b[38;5;241m>\u001b[39m \u001b[38;5;28;01mNone\u001b[39;00m:\n\u001b[1;32m     88\u001b[0m \u001b[38;5;250m    \u001b[39m\u001b[38;5;124;03m\"\"\"Update state with predictions and targets.\"\"\"\u001b[39;00m\n\u001b[0;32m---> 89\u001b[0m     errors, total \u001b[38;5;241m=\u001b[39m \u001b[43m_cer_update\u001b[49m\u001b[43m(\u001b[49m\u001b[43mpreds\u001b[49m\u001b[43m,\u001b[49m\u001b[43m \u001b[49m\u001b[43mtarget\u001b[49m\u001b[43m)\u001b[49m\n\u001b[1;32m     90\u001b[0m     \u001b[38;5;28mself\u001b[39m\u001b[38;5;241m.\u001b[39merrors \u001b[38;5;241m+\u001b[39m\u001b[38;5;241m=\u001b[39m errors\n\u001b[1;32m     91\u001b[0m     \u001b[38;5;28mself\u001b[39m\u001b[38;5;241m.\u001b[39mtotal \u001b[38;5;241m+\u001b[39m\u001b[38;5;241m=\u001b[39m total\n",
      "File \u001b[0;32m~/projects/latin-transcription/.venv/lib/python3.11/site-packages/torchmetrics/functional/text/cer.py:47\u001b[0m, in \u001b[0;36m_cer_update\u001b[0;34m(preds, target)\u001b[0m\n\u001b[1;32m     45\u001b[0m     pred_tokens \u001b[38;5;241m=\u001b[39m pred\n\u001b[1;32m     46\u001b[0m     tgt_tokens \u001b[38;5;241m=\u001b[39m tgt\n\u001b[0;32m---> 47\u001b[0m     errors \u001b[38;5;241m+\u001b[39m\u001b[38;5;241m=\u001b[39m \u001b[43m_edit_distance\u001b[49m\u001b[43m(\u001b[49m\u001b[38;5;28;43mlist\u001b[39;49m\u001b[43m(\u001b[49m\u001b[43mpred_tokens\u001b[49m\u001b[43m)\u001b[49m\u001b[43m,\u001b[49m\u001b[43m \u001b[49m\u001b[38;5;28;43mlist\u001b[39;49m\u001b[43m(\u001b[49m\u001b[43mtgt_tokens\u001b[49m\u001b[43m)\u001b[49m\u001b[43m)\u001b[49m\n\u001b[1;32m     48\u001b[0m     total \u001b[38;5;241m+\u001b[39m\u001b[38;5;241m=\u001b[39m \u001b[38;5;28mlen\u001b[39m(tgt_tokens)\n\u001b[1;32m     49\u001b[0m \u001b[38;5;28;01mreturn\u001b[39;00m errors, total\n",
      "File \u001b[0;32m~/projects/latin-transcription/.venv/lib/python3.11/site-packages/torchmetrics/functional/text/helper.py:349\u001b[0m, in \u001b[0;36m_edit_distance\u001b[0;34m(prediction_tokens, reference_tokens)\u001b[0m\n\u001b[1;32m    347\u001b[0m             dp[i][j] \u001b[38;5;241m=\u001b[39m dp[i \u001b[38;5;241m-\u001b[39m \u001b[38;5;241m1\u001b[39m][j \u001b[38;5;241m-\u001b[39m \u001b[38;5;241m1\u001b[39m]\n\u001b[1;32m    348\u001b[0m         \u001b[38;5;28;01melse\u001b[39;00m:\n\u001b[0;32m--> 349\u001b[0m             dp[i][j] \u001b[38;5;241m=\u001b[39m \u001b[38;5;28;43mmin\u001b[39;49m\u001b[43m(\u001b[49m\u001b[43mdp\u001b[49m\u001b[43m[\u001b[49m\u001b[43mi\u001b[49m\u001b[43m \u001b[49m\u001b[38;5;241;43m-\u001b[39;49m\u001b[43m \u001b[49m\u001b[38;5;241;43m1\u001b[39;49m\u001b[43m]\u001b[49m\u001b[43m[\u001b[49m\u001b[43mj\u001b[49m\u001b[43m]\u001b[49m\u001b[43m,\u001b[49m\u001b[43m \u001b[49m\u001b[43mdp\u001b[49m\u001b[43m[\u001b[49m\u001b[43mi\u001b[49m\u001b[43m]\u001b[49m\u001b[43m[\u001b[49m\u001b[43mj\u001b[49m\u001b[43m \u001b[49m\u001b[38;5;241;43m-\u001b[39;49m\u001b[43m \u001b[49m\u001b[38;5;241;43m1\u001b[39;49m\u001b[43m]\u001b[49m\u001b[43m,\u001b[49m\u001b[43m \u001b[49m\u001b[43mdp\u001b[49m\u001b[43m[\u001b[49m\u001b[43mi\u001b[49m\u001b[43m \u001b[49m\u001b[38;5;241;43m-\u001b[39;49m\u001b[43m \u001b[49m\u001b[38;5;241;43m1\u001b[39;49m\u001b[43m]\u001b[49m\u001b[43m[\u001b[49m\u001b[43mj\u001b[49m\u001b[43m \u001b[49m\u001b[38;5;241;43m-\u001b[39;49m\u001b[43m \u001b[49m\u001b[38;5;241;43m1\u001b[39;49m\u001b[43m]\u001b[49m\u001b[43m)\u001b[49m \u001b[38;5;241m+\u001b[39m \u001b[38;5;241m1\u001b[39m\n\u001b[1;32m    350\u001b[0m \u001b[38;5;28;01mreturn\u001b[39;00m dp[\u001b[38;5;241m-\u001b[39m\u001b[38;5;241m1\u001b[39m][\u001b[38;5;241m-\u001b[39m\u001b[38;5;241m1\u001b[39m]\n",
      "\u001b[0;31mKeyboardInterrupt\u001b[0m: "
     ]
    }
   ],
   "source": [
    "char_error_rate_old = CharErrorRate()\n",
    "word_error_rate_old = WordErrorRate()\n",
    "\n",
    "data_old = {}\n",
    "\n",
    "for filename in tqdm(glob.glob(GROUND_TRUTH_SOURCE + \"/*.xml\")):\n",
    "    if os.path.basename(filename) not in transcribus_files_dics:\n",
    "        continue\n",
    "    transkribus_file = transcribus_files_dics[os.path.basename(filename)]\n",
    "    ground_truth_file = filename\n",
    "    transkribus_lines = extract_lines_from_xml(transkribus_file)\n",
    "    ground_truth_lines = extract_lines_from_xml(ground_truth_file)\n",
    "\n",
    "    transkribus_lines = [t[0] for t in transkribus_lines]\n",
    "    ground_truth_lines = [t[0] for t in ground_truth_lines]\n",
    "\n",
    "    transkribus_text = \" \".join(transkribus_lines)\n",
    "    ground_truth_text = \" \".join(ground_truth_lines)\n",
    "    \n",
    "    gt = transformation(ground_truth_text)\n",
    "    hyp = transformation(transkribus_text)  \n",
    "\n",
    "    char_error_rate_old.update(hyp, gt)\n",
    "    word_error_rate_old.update(hyp, gt)\n",
    "\n",
    "    data_old[os.path.basename(filename)] = {\n",
    "        \"ground_truth\": ground_truth_text,\n",
    "        \"hypothesis\": transkribus_text,\n",
    "    }"
   ]
  },
  {
   "cell_type": "code",
   "execution_count": null,
   "metadata": {},
   "outputs": [
    {
     "name": "stdout",
     "output_type": "stream",
     "text": [
      "Character Error Rate: 0.2582835257053375\n",
      "Word Error Rate: 0.566498339176178\n"
     ]
    }
   ],
   "source": [
    "character_error_rate_old = float(char_error_rate_old.compute())\n",
    "word_error_rate_old = float(word_error_rate_old.compute())\n",
    "print(f\"Character Error Rate: {character_error_rate_old}\")\n",
    "print(f\"Word Error Rate: {word_error_rate_old}\")"
   ]
  }
 ],
 "metadata": {
  "kernelspec": {
   "display_name": ".venv",
   "language": "python",
   "name": "python3"
  },
  "language_info": {
   "codemirror_mode": {
    "name": "ipython",
    "version": 3
   },
   "file_extension": ".py",
   "mimetype": "text/x-python",
   "name": "python",
   "nbconvert_exporter": "python",
   "pygments_lexer": "ipython3",
   "version": "3.11.2"
  }
 },
 "nbformat": 4,
 "nbformat_minor": 2
}
