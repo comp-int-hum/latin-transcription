{
 "cells": [
  {
   "cell_type": "code",
   "execution_count": 21,
   "metadata": {},
   "outputs": [],
   "source": [
    "import os\n",
    "from tqdm import tqdm\n",
    "import glob\n",
    "from xml.etree import ElementTree as ET\n",
    "import re\n",
    "import difflib\n",
    "from torchmetrics.text import CharErrorRate, WordErrorRate\n",
    "import jiwer"
   ]
  },
  {
   "cell_type": "code",
   "execution_count": 22,
   "metadata": {},
   "outputs": [],
   "source": [
    "BASE = \"/home/efittsc1/projects/latin-transcription/\"\n",
    "TRANSCRIBUS_SOURCE = BASE + \"transkribus_model_result/page\"\n",
    "GROUND_TRUTH_SOURCE = BASE + \"source\""
   ]
  },
  {
   "cell_type": "code",
   "execution_count": 23,
   "metadata": {},
   "outputs": [],
   "source": [
    "transcribus_files = glob.glob(os.path.join(TRANSCRIBUS_SOURCE, \"*.xml\"))\n",
    "transcribus_files_dics = {}\n",
    "\n",
    "for file in transcribus_files:\n",
    "    _, original_filename = os.path.basename(file).split(\"_\")\n",
    "    transcribus_files_dics[original_filename] = file\n",
    "\n"
   ]
  },
  {
   "cell_type": "code",
   "execution_count": 24,
   "metadata": {},
   "outputs": [],
   "source": [
    "def get_namespace(element):\n",
    "        m = re.match('\\{.*\\}', element.tag)\n",
    "        return m.group(0)[1:-1] if m else ''"
   ]
  },
  {
   "cell_type": "code",
   "execution_count": 47,
   "metadata": {},
   "outputs": [],
   "source": [
    "def extract_lines_from_xml(xml_file):\n",
    "    lines = []\n",
    "    tree = ET.parse(xml_file)\n",
    "    ns = {\"ns\": get_namespace(tree.getroot())}\n",
    "    ET.register_namespace('', ns['ns'])\n",
    "    root = tree.getroot()\n",
    "    try:\n",
    "        for text_region in root.findall('.//ns:TextRegion', ns):\n",
    "            for lineno, text_line in enumerate(text_region.findall('.//ns:TextLine', ns)):\n",
    "                text = text_line.find('.//ns:TextEquiv', ns).find('.//ns:Unicode', ns).text\n",
    "                if text is None:\n",
    "                    continue\n",
    "                text = text.strip()\n",
    "                text = text.replace(\",\", \".\")\n",
    "                lines.append(text)\n",
    "    except Exception as e:\n",
    "        print(f\"Error processing {xml_file}: {e}\")\n",
    "    return lines\n"
   ]
  },
  {
   "cell_type": "code",
   "execution_count": 48,
   "metadata": {},
   "outputs": [],
   "source": [
    "transformation = jiwer.Compose([\n",
    "    jiwer.ToLowerCase(),\n",
    "    jiwer.RemovePunctuation(),\n",
    "    jiwer.RemoveMultipleSpaces(),\n",
    "    jiwer.Strip(),\n",
    "])"
   ]
  },
  {
   "cell_type": "code",
   "execution_count": 51,
   "metadata": {},
   "outputs": [
    {
     "name": "stderr",
     "output_type": "stream",
     "text": [
      "100%|██████████| 103/103 [00:00<00:00, 560328.55it/s]"
     ]
    },
    {
     "name": "stdout",
     "output_type": "stream",
     "text": [
      "JUST1-633m38.xml not found in transcribus files\n",
      "JUST1-633m11.xml not found in transcribus files\n",
      "JUST1-633m12d.xml not found in transcribus files\n",
      "JUST1-633m20.xml not found in transcribus files\n"
     ]
    },
    {
     "name": "stderr",
     "output_type": "stream",
     "text": [
      "\n"
     ]
    }
   ],
   "source": [
    "for filename in tqdm(glob.glob(GROUND_TRUTH_SOURCE + \"/*.xml\")):\n",
    "    if os.path.basename(filename) not in transcribus_files_dics:\n",
    "        print(f\"{os.path.basename(filename)} not found in transcribus files\")\n",
    "    #assert os.path.basename(filename) in transcribus_files_dics, f\"{os.path.basename(filename)} not found in transcribus files\""
   ]
  },
  {
   "cell_type": "code",
   "execution_count": 52,
   "metadata": {},
   "outputs": [
    {
     "name": "stderr",
     "output_type": "stream",
     "text": [
      "100%|██████████| 103/103 [02:46<00:00,  1.62s/it]\n"
     ]
    }
   ],
   "source": [
    "char_error_rate = CharErrorRate()\n",
    "word_error_rate = WordErrorRate()\n",
    "\n",
    "data = {}\n",
    "\n",
    "for filename in tqdm(glob.glob(GROUND_TRUTH_SOURCE + \"/*.xml\")):\n",
    "    if os.path.basename(filename) not in transcribus_files_dics:\n",
    "        continue\n",
    "    transkribus_file = transcribus_files_dics[os.path.basename(filename)]\n",
    "    ground_truth_file = filename\n",
    "    transkribus_lines = extract_lines_from_xml(transkribus_file)\n",
    "    ground_truth_lines = extract_lines_from_xml(ground_truth_file)\n",
    "\n",
    "    transkribus_text = \" \".join(transkribus_lines)\n",
    "    ground_truth_text = \" \".join(ground_truth_lines)\n",
    "    \n",
    "    gt = transformation(ground_truth_text)\n",
    "    hyp = transformation(transkribus_text)  \n",
    "\n",
    "    char_error_rate.update(hyp, gt)\n",
    "    word_error_rate.update(hyp, gt)\n",
    "\n",
    "    data[os.path.basename(filename)] = {\n",
    "        \"ground_truth\": ground_truth_text,\n",
    "        \"hypothesis\": transkribus_text,\n",
    "    }\n"
   ]
  },
  {
   "cell_type": "code",
   "execution_count": 53,
   "metadata": {},
   "outputs": [],
   "source": [
    "character_error_rate = float(char_error_rate.compute())\n",
    "word_error_rate = float(word_error_rate.compute())\n",
    "print(f\"Character Error Rate: {character_error_rate:.3f}\")\n",
    "print(f\"Word Error Rate: {word_error_rate:.3f}\")"
   ]
  },
  {
   "cell_type": "code",
   "execution_count": 57,
   "metadata": {},
   "outputs": [],
   "source": [
    "gt = data[os.path.basename(filename)][\"ground_truth\"]\n",
    "hyp = data[os.path.basename(filename)][\"hypothesis\"]\n",
    "wer = jiwer.process_words(\n",
    "    gt,\n",
    "    hyp,\n",
    ")\n",
    "cer = jiwer.process_characters(\n",
    "    gt,\n",
    "    hyp,\n",
    ")\n",
    "wer.wer\n",
    "cer.cer"
   ]
  },
  {
   "cell_type": "code",
   "execution_count": 62,
   "metadata": {},
   "outputs": [
    {
     "name": "stdout",
     "output_type": "stream",
     "text": [
      "sentence 1\n",
      "REF:      ¶ Abbas de  Persouere summonitus fuit ad respondendum Matheo de   Besill de placito  quare levavit quoddam mercatum apud  Hauekebir ad *********** nocumentum mercati predicti  Mathei de Schorstan etc. Et  unde predictus Matheus per attornatum suum queritur quod cum habebat qualibet septimana per diem   martis quoddam mercatum ex dono domini regis       per cartam suam in villa ipsius Mathei de Schorstan et antiquius impetratum quam mercatum predicti Abbatis de Hauekebir. predictus Abbas de novo levavit predictum mercatum suum in Hauekebir scilicet qualibet  septimana per diem lune ita quod mercandie mercatorum que vendi debent et  solent ad mercatum suum in Schorstan modo venduntur ad  mercatum ipsius Abbatis de Hauekebir Et similiter teolonia et ** stallagia et alie consuetudines que dari  solent et debent pro merchandis mercatorum emptis in  mercato ipsius Mathei de Schorstan modo dantur et  capiuntur in mercato ipsius Abbatis de Hauekebir unde dicit quod per hoc quod levavit predictum mercatum. deterioratus est et dampnum habet ad valenciam xl librarum. Et Abbas per attornatum suum venit et defendit vim et ******** injuriam quando etc. Et bene defendit quod predictum ****** mercatum suum de  Hauekebir non est levatum ad aliquod *** nocumentum predicti mercati ipsius Mathei de Schorstan quia dicit quod mercatum suum de Hauekebir quod est per diem lune  precedat  mercatum ipsius ** Mathei de  Schorstan quod est per diem martis. Ita quod ** mercatores qui  veniunt cum *** merchandis suis ad mercatum suum de Hauekebir. prompciores sunt ad mercatum ipsius Mathei de Schorstan et dicit quod  mercato res qui emerunt mercandias in mercato ipsius Abbatis. postea  vendunt illas in mercato ipsius Mathei Ita quod mercatum suum de Hauekebir magis levatum est ad comodum et utilitatem mercati ipsius Mathei de Schorstan quam ad nocumentum. Et de hoc ponit se super patriam Et Matheus similiter   Et Matheus  per sic quod inquiratur offert domino regi      i marcam. Et quia predictum  mercatum de Hauekebir. est in comitatu Glouc et mercatum de Schorstan est in comitatu       Wylt preceptum est vicecomiti   Glouc quod venire  faciat        in adventu  S.     de   Waut       apud Camped  octo tam milites etc. per quos etc. Et qui nec etc. Et similiter vicecomiti   Wylt quod venire  faciat alios octo tam milites etc. ad recognoscendum etc.          si predictum mercatum predicti Abbatis de  Haukebir levatum sit ad nocumentum predicti mercati ipsius Mathei de Schorstan sicut predictus Matheus dicit. vel  non et si  ad nocumentum. ad quod nocumentum Quia tam etc.  Et   concessum est ***** hinc inde. Etc. Postea die dominica proxima post quindenam Purificacionis Beate Marie apud  Caumpeden venit predicta jurata     qui dicunt super sacramentum suum quod predictum mercatum predicti Abbatis de Hauekesbyr levatum est   ad nocumentum predicti mercati predicti Mathei in Schorstan quia dicunt quod omnes homines   ipsius Abbatis de manerio  suo de Hauekesbir  emunt et   vendunt res   suas blada et   pe  cora et omnes ***** merchandisas suas faciunt ad mercatum illud    de Hauekesbir et quia omnino pretermittunt aliud mercatum de Schorstan ubi solebant venire ad emendum et  vendendum sicut ********* ******* Et preterea dicunt quod alii ***** mercatores bladi qui solebant  bladum apud Schorstan ad cariandum apud Bristoll modo   emunt ad aliud mercatum       de Hauekes    bir      eo quod mercatum illud est propinquius quam sit mercatum de Schorstan et alia racione. dicunt quod est ad nocumentum predicti mercati de Schorstan quia manerium de Hauekesbir in quo    mercatum predicti Abbatis  levatum est. non distat a predicto * mercato de Schorstan   nisi tantum per tres leucas. predictum est\n",
      "HYP: Iabbas ***** de percionere    summone fuit ad    respondam Macheo de Nesillae de   pluno quaram lonauit quoddam  orcatus apud Hauekebury ad Noecimertum       quod    cati predicti Macthei de  Sthostan  etc Et domne predictus  Mallis  pr acternatum suum     quem quod cum     bat   quabus  Septimam per diem grarctis  quodam  Sacatum ex dono domini     r percartam ****** suam in uilla ipsius  Macei de Sthorstan et anciquius Inpetratum    q nerdaiti predicti Abbatis de Haanekebir predictus Abbas de nono leuanit predictum Martatum suum in Ranekebrn scilicet   quabus septimanum per  die Lune  Ia  pro uertandie marcatorum que uendi dabent et soluent ad  Seratum suum in sthorstan eolo  uonduilt ad mercditum ipsius Abbatis de Hauekebir  E  omiliter  Teclona et st   allagia et alie consuetudines que dari soluont et debent pro merchandis   ucatorum emptis in muercato ipsius  Machi de  Schestan modo   dant et capiuntuar in mircato ipsius abbatis de Hanekebir unde   dit quod per hoc quod  lenant predictum  xrdeitum dotornigiatu est et  dampum    Et  a    ualent pi      Abas et abbas per   atrnatum suum uenit  E defendit uni et Dituriam     quam     et  cis et  bne defenduo quod predictum exraim    actam suum de Hauenebiri non est lenatum ad aliquod noc   tueritum predicti   Mcati ipsius  Mabbi de Schostone quia  dict quod mercatum suum de Hauekebir quod est per diem lune precedict ubircatum ipsius et  achas de Stchostori quod est per diem grarcis Ita quod ei   cacoroes qui venerunt cum Moc     chands suis ad   pratum suum de  Hauekekir proueciores sunt ad marcatum  ipsus Maltri de Sthorstan Et ditis quod maercato ros qui   enunt  micandias in mercato  ipsis  abbatis pretea uendernt illas in mercato ipsius    Mac ita quod marcatum suum de Hauekebir magie lonatum est ad   emdem et utilitatem   Mraci ipsius  Machi de   Stortan quam ad nocumeritum Et de hoc ponit se super partiam Et    Matl    silito CMac    pars quod  pt **** inquiratur offert domino  rei Domini ******* Et qued predictum Prdaictum de   Hauekobr est in  comebnc ***** et  Srcacum de  Stonstan est In   comsat preceptote ********* est        uic Glouert quod venire ficardo suaduenti       s de¬ Diaunt tempre campodicto    tam Milli  et       c   pr *** quos  etc Et qui noc etas Et   siliter        uic villet  qui venire fiucert alias octo tam      ml  etc ad            fec  etc sipredictum      eium     atum predicti abbatis de Bauekbira lonatum sit  a nocumentum predicti Mracati ipsius Machis de  Sthortan  sict predictus  Mathis dictis  il nono Et si aue        none ad quod        non   ud  ta   et cet concessiuui est huiic  Dne   etc  Omn   Fsta Die    domno       p   Et quindenam           Puri    ba Marie apud Oumpedenem  ione predicta    vur euidunt ****** super      socaem **** quod  pedictum predicto predicti abbatis de   Lnekebre lenatum est quod       nanc predicti  Madrti predicti Machie in     Thost  eia domini preo omnes homines eiastres  Abbats de   Saino grno de  Hauekgbre eninit et vonderunt  re onedra bedde et pere coger et omnes echnd           as  sua faciunt ad    matum illud deane    keobiri et  qua omnino  preternitunt  alid   mretum de   Skestan  Ut  solibit venire ad   endem et honerondam sicut uexparpte Clehanc Et  frateri dimint quod alii gutac       Acos  bodi qui colelant bilidum apud  Shostadm ad  Orandium apud  Kystoll qodo enerint ad oliud quodctum Langbrei       u eoqudm norcatu **** ******** illud est propinquius  que sit   edicti de  Sborstan et alia    foine   dict quod  es  a  nomerctum predicti   Merca de   Shostan quod   maneum de   Bukegbir in  qa minrtaconum predicti abbatis lendetum   et non distat a predicto s      Et de   Sbystan necium ****** per tres   Lende ********* ***\n",
      "          S     D             S          S                    S      S           S          S      S       S                S               S              I          S       S                S            S    S        S                 S   S          S             S                S        S         S                 S       S        S                    S         S      D             S             S            S            S          S    S        S                              S                       S       S                  S                 S                 S          S        S    S   S    S         S          S         S      S          S           S                 S    S         S            S                              S         S        S     I         S                                      S                                   S                  S             S            S           S             S          S              S            S          S                         S                   S            S              S     S  S         S  S         S  S     S              S          S  S            S           I        S      S    S  S    S        S                     I        S                  S               S              I          S                S             S            S          S                                                                S         S         I      S             S                         S           I          S            S       I          S                S                  S           S                S      S      S            S  S     S             S   S           S          S                 S        S      S        S                              S   S             S                       S       S              S                     S             S            S                   S                                S          S         S    S       S    S   S    D                             S      S       D       S                   S             S               S     D           S            S      S        S          S         D              S       S                   S         S       S   S      S      S          S      S     S   S       S    S   D         S          S    S            S          S      S    S              S     S                S    S                 S    S           S         S        S                S            S       S      S                           S             S            S     S                 S      S   S    S  S      S           S                  S    S   S    S   S           S         I    S     S    S      S   S        S       S    S                        S     S                     S     S               S       S      D                 S    D              S        S                S             S       S        S          S                S               S            S    S      S    S                      S       S          S    S             S      S            S   S      S     S       S     S              I            S    S                   S           S          S       S                    S     S        S            S   S        S                 S             S               I       I           S      S               I          S     S            S       S              S            S             S    S       S        S        S        S       S      S       S    D        D                          S            S            S                S      S        S  S          S                S            S    S        S             S      S           S                S        S    S                       I       S            S      S      D                S         D   D\n",
      "\n",
      "number of sentences: 1\n",
      "substitutions=298 deletions=14 insertions=14 hits=235\n",
      "\n",
      "mer=58.11%\n",
      "wil=81.54%\n",
      "wip=18.46%\n",
      "wer=59.60%\n",
      "\n"
     ]
    }
   ],
   "source": [
    "print(jiwer.visualize_alignment(wer))"
   ]
  }
 ],
 "metadata": {
  "kernelspec": {
   "display_name": ".venv",
   "language": "python",
   "name": "python3"
  },
  "language_info": {
   "codemirror_mode": {
    "name": "ipython",
    "version": 3
   },
   "file_extension": ".py",
   "mimetype": "text/x-python",
   "name": "python",
   "nbconvert_exporter": "python",
   "pygments_lexer": "ipython3",
   "version": "3.11.2"
  }
 },
 "nbformat": 4,
 "nbformat_minor": 2
}
