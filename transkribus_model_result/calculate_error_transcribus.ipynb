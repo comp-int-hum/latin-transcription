{
 "cells": [
  {
   "cell_type": "code",
   "execution_count": 2,
   "metadata": {},
   "outputs": [],
   "source": [
    "import os\n",
    "from tqdm import tqdm\n",
    "import glob\n",
    "from xml.etree import ElementTree as ET\n",
    "import re\n",
    "import difflib\n",
    "from torchmetrics.text import CharErrorRate, WordErrorRate\n",
    "import jiwer\n",
    "import numpy as np\n",
    "#import cv2\n",
    "import matplotlib.pyplot as plt\n",
    "import cv2\n",
    "from shapely.affinity import scale\n",
    "import random\n"
   ]
  },
  {
   "cell_type": "code",
   "execution_count": 3,
   "metadata": {},
   "outputs": [],
   "source": [
    "BASE = \"/home/efittsc1/projects/latin-transcription/\"\n",
    "TRANSCRIBUS_SOURCE = BASE + \"transkribus_model_result/page\"\n",
    "GROUND_TRUTH_SOURCE = BASE + \"source\""
   ]
  },
  {
   "cell_type": "code",
   "execution_count": 4,
   "metadata": {},
   "outputs": [],
   "source": [
    "transcribus_files = glob.glob(os.path.join(TRANSCRIBUS_SOURCE, \"*.xml\"))\n",
    "transcribus_files_dics = {}\n",
    "\n",
    "for file in transcribus_files:\n",
    "    _, original_filename = os.path.basename(file).split(\"_\")\n",
    "    transcribus_files_dics[original_filename] = file\n",
    "\n"
   ]
  },
  {
   "cell_type": "code",
   "execution_count": 5,
   "metadata": {},
   "outputs": [],
   "source": [
    "def get_namespace(element):\n",
    "        m = re.match('\\{.*\\}', element.tag)\n",
    "        return m.group(0)[1:-1] if m else ''"
   ]
  },
  {
   "cell_type": "code",
   "execution_count": 6,
   "metadata": {},
   "outputs": [],
   "source": [
    "def extract_lines_from_xml(xml_file):\n",
    "    lines = []\n",
    "    #print(f\"Processing {xml_file}\")\n",
    "    tree = ET.parse(xml_file)\n",
    "    ns = {\"ns\": get_namespace(tree.getroot())}\n",
    "    ET.register_namespace('', ns['ns'])\n",
    "    root = tree.getroot()\n",
    "    try:\n",
    "        for text_region in root.findall('.//ns:TextRegion', ns):\n",
    "            for lineno, text_line in enumerate(text_region.findall('.//ns:TextLine', ns)):\n",
    "                text = text_line.find('.//ns:TextEquiv', ns).find('.//ns:Unicode', ns).text\n",
    "                if text is None:\n",
    "                    continue\n",
    "                baseline = text_line.find('ns:Baseline', ns).get('points')\n",
    "                #print(baseline)\n",
    "                baseline_list = np.array([p.split(\",\") for p in baseline.split(\" \")], dtype=int)\n",
    "                text = text.strip()\n",
    "                text = text.replace(\",\", \".\")\n",
    "                lines.append((text, baseline_list))\n",
    "    except Exception as e:\n",
    "        print(f\"Error processing {xml_file}: {e}\")\n",
    "    return lines\n"
   ]
  },
  {
   "cell_type": "code",
   "execution_count": 7,
   "metadata": {},
   "outputs": [],
   "source": [
    "transformation = jiwer.Compose([\n",
    "    jiwer.ToLowerCase(),\n",
    "    jiwer.RemovePunctuation(),\n",
    "    jiwer.RemoveMultipleSpaces(),\n",
    "    jiwer.Strip(),\n",
    "])"
   ]
  },
  {
   "cell_type": "code",
   "execution_count": 8,
   "metadata": {},
   "outputs": [
    {
     "name": "stderr",
     "output_type": "stream",
     "text": [
      "100%|██████████| 99/99 [00:00<00:00, 1072961.49it/s]\n"
     ]
    }
   ],
   "source": [
    "for filename in tqdm(glob.glob(GROUND_TRUTH_SOURCE + \"/*.xml\")):\n",
    "    if os.path.basename(filename) not in transcribus_files_dics:\n",
    "        print(f\"{os.path.basename(filename)} not found in transcribus files\")\n",
    "    #assert os.path.basename(filename) in transcribus_files_dics, f\"{os.path.basename(filename)} not found in transcribus files\""
   ]
  },
  {
   "cell_type": "code",
   "execution_count": 9,
   "metadata": {},
   "outputs": [],
   "source": [
    "def get_line_spacing(baselines):\n",
    "    center_x = np.median([(l.T[0][0] + l.T[0][-1])/2 for l in baselines])\n",
    "    \n",
    "    center_ys = []\n",
    "    for line in baselines:\n",
    "        xs, ys = line.T\n",
    "        center_ys.append(np.interp(center_x, xs, ys))\n",
    "\n",
    "    med_spacing = np.median(np.diff(center_ys))\n",
    "    return int(round(med_spacing))"
   ]
  },
  {
   "cell_type": "code",
   "execution_count": 10,
   "metadata": {},
   "outputs": [],
   "source": [
    "def box_from_baseline(baseline_points, med_spacing, height):\n",
    "        lower_spacing = int(round(0.23 * med_spacing))\n",
    "        upper_spacing = int(round(0.77 * med_spacing))\n",
    "    \n",
    "        baseline_points_polygon = [[max(p[0], 0), min(height-1, p[1])+lower_spacing] for p in baseline_points]\n",
    "        baseline_points_polygon += [[max(p[0], 0), max(0, p[1]-upper_spacing)] for p in baseline_points[::-1]]\n",
    "        return np.array(baseline_points_polygon, dtype=np.int32)"
   ]
  },
  {
   "cell_type": "code",
   "execution_count": 11,
   "metadata": {},
   "outputs": [],
   "source": [
    "from shapely.geometry import Polygon\n",
    "from shapely.strtree import STRtree"
   ]
  },
  {
   "cell_type": "code",
   "execution_count": 12,
   "metadata": {},
   "outputs": [],
   "source": [
    "dirs = [ BASE +\"transkribus_model_result/images/matched_lines\", \"transkribus_model_result/images/unmatched_lines\"]\n",
    "\n",
    "for d in dirs:\n",
    "    if os.path.exists(d):\n",
    "        for f in os.listdir(d):\n",
    "            os.remove(os.path.join(d, f))\n",
    "        os.rmdir(d)\n",
    "    os.makedirs(d)\n",
    "    "
   ]
  },
  {
   "cell_type": "code",
   "execution_count": 13,
   "metadata": {},
   "outputs": [],
   "source": [
    "def polygon_to_points(polygon):\n",
    "    array= np.array(polygon.exterior.coords, dtype=np.int32)\n",
    "    return array[:-1]"
   ]
  },
  {
   "cell_type": "code",
   "execution_count": 14,
   "metadata": {},
   "outputs": [],
   "source": [
    "def scale_np_array_y(array, scale):\n",
    "    array = array.astype(float)\n",
    "    x_values = array.T[0]\n",
    "    y_values = array.T[1]\n",
    "    x_values_unique = np.unique(x_values)\n",
    "    \n",
    "    for x in x_values_unique:\n",
    "        indices = np.where(x_values == x)\n",
    "        midpoint = np.mean(y_values[indices])\n",
    "        y_values[indices] = scale * (y_values[indices] - midpoint) + midpoint\n",
    "    return np.array([x_values, y_values]).T.astype(int)\n"
   ]
  },
  {
   "cell_type": "code",
   "execution_count": 15,
   "metadata": {},
   "outputs": [
    {
     "name": "stderr",
     "output_type": "stream",
     "text": [
      "  1%|          | 1/99 [00:00<00:25,  3.87it/s]"
     ]
    },
    {
     "name": "stdout",
     "output_type": "stream",
     "text": [
      "Unmatched polygons for /home/efittsc1/projects/latin-transcription/source/JUST1-734m3d.xml\n"
     ]
    },
    {
     "name": "stderr",
     "output_type": "stream",
     "text": [
      "  2%|▏         | 2/99 [00:00<00:31,  3.04it/s]"
     ]
    },
    {
     "name": "stdout",
     "output_type": "stream",
     "text": [
      "Unmatched polygons for /home/efittsc1/projects/latin-transcription/source/JUST1-633m84d.xml\n"
     ]
    },
    {
     "name": "stderr",
     "output_type": "stream",
     "text": [
      "  3%|▎         | 3/99 [00:00<00:28,  3.42it/s]"
     ]
    },
    {
     "name": "stdout",
     "output_type": "stream",
     "text": [
      "Unmatched polygons for /home/efittsc1/projects/latin-transcription/source/JUST1-635m13f.xml\n"
     ]
    },
    {
     "name": "stderr",
     "output_type": "stream",
     "text": [
      "  4%|▍         | 4/99 [00:01<00:26,  3.65it/s]"
     ]
    },
    {
     "name": "stdout",
     "output_type": "stream",
     "text": [
      "Unmatched polygons for /home/efittsc1/projects/latin-transcription/source/JUST1-633m48d.xml\n"
     ]
    },
    {
     "name": "stderr",
     "output_type": "stream",
     "text": [
      "  5%|▌         | 5/99 [00:01<00:21,  4.35it/s]"
     ]
    },
    {
     "name": "stdout",
     "output_type": "stream",
     "text": [
      "Unmatched polygons for /home/efittsc1/projects/latin-transcription/source/JUST1-632m3d.xml\n"
     ]
    },
    {
     "name": "stderr",
     "output_type": "stream",
     "text": [
      "  8%|▊         | 8/99 [00:01<00:14,  6.34it/s]"
     ]
    },
    {
     "name": "stdout",
     "output_type": "stream",
     "text": [
      "Unmatched polygons for /home/efittsc1/projects/latin-transcription/source/memb2.xml\n",
      "Unmatched polygons for /home/efittsc1/projects/latin-transcription/source/JUST1-734m3.xml\n"
     ]
    },
    {
     "name": "stderr",
     "output_type": "stream",
     "text": [
      "  9%|▉         | 9/99 [00:01<00:16,  5.44it/s]"
     ]
    },
    {
     "name": "stdout",
     "output_type": "stream",
     "text": [
      "Unmatched polygons for /home/efittsc1/projects/latin-transcription/source/JUST1-734m11.xml\n"
     ]
    },
    {
     "name": "stderr",
     "output_type": "stream",
     "text": [
      " 10%|█         | 10/99 [00:02<00:19,  4.54it/s]"
     ]
    },
    {
     "name": "stdout",
     "output_type": "stream",
     "text": [
      "Unmatched polygons for /home/efittsc1/projects/latin-transcription/source/JUST1-820m18.xml\n"
     ]
    },
    {
     "name": "stderr",
     "output_type": "stream",
     "text": [
      " 11%|█         | 11/99 [00:02<00:18,  4.76it/s]"
     ]
    },
    {
     "name": "stdout",
     "output_type": "stream",
     "text": [
      "Unmatched polygons for /home/efittsc1/projects/latin-transcription/source/JUST1-633m2d.xml\n"
     ]
    },
    {
     "name": "stderr",
     "output_type": "stream",
     "text": [
      " 15%|█▌        | 15/99 [00:02<00:09,  8.59it/s]"
     ]
    },
    {
     "name": "stdout",
     "output_type": "stream",
     "text": [
      "Unmatched polygons for /home/efittsc1/projects/latin-transcription/source/norw5.xml\n",
      "Unmatched polygons for /home/efittsc1/projects/latin-transcription/source/norw2.xml\n",
      "Unmatched polygons for /home/efittsc1/projects/latin-transcription/source/JUST1-734m2.xml\n"
     ]
    },
    {
     "name": "stderr",
     "output_type": "stream",
     "text": [
      " 16%|█▌        | 16/99 [00:02<00:10,  7.63it/s]"
     ]
    },
    {
     "name": "stdout",
     "output_type": "stream",
     "text": [
      "Unmatched polygons for /home/efittsc1/projects/latin-transcription/source/JUST1-734m13.xml\n",
      "Unmatched polygons for /home/efittsc1/projects/latin-transcription/source/JUST1-635m35d.xml\n"
     ]
    },
    {
     "name": "stderr",
     "output_type": "stream",
     "text": [
      " 18%|█▊        | 18/99 [00:03<00:09,  8.98it/s]"
     ]
    },
    {
     "name": "stdout",
     "output_type": "stream",
     "text": [
      "Unmatched polygons for /home/efittsc1/projects/latin-transcription/source/memb1.xml\n",
      "Unmatched polygons for /home/efittsc1/projects/latin-transcription/source/JUST1-734m15d.xml\n"
     ]
    },
    {
     "name": "stderr",
     "output_type": "stream",
     "text": [
      " 19%|█▉        | 19/99 [00:03<00:09,  8.04it/s]"
     ]
    },
    {
     "name": "stdout",
     "output_type": "stream",
     "text": [
      "Unmatched polygons for /home/efittsc1/projects/latin-transcription/source/norw6.xml\n",
      "Unmatched polygons for /home/efittsc1/projects/latin-transcription/source/JUST1-734m13d.xml\n"
     ]
    },
    {
     "name": "stderr",
     "output_type": "stream",
     "text": [
      " 22%|██▏       | 22/99 [00:03<00:12,  6.04it/s]"
     ]
    },
    {
     "name": "stdout",
     "output_type": "stream",
     "text": [
      "Unmatched polygons for /home/efittsc1/projects/latin-transcription/source/JUST1-734m4.xml\n"
     ]
    },
    {
     "name": "stderr",
     "output_type": "stream",
     "text": [
      " 23%|██▎       | 23/99 [00:04<00:13,  5.51it/s]"
     ]
    },
    {
     "name": "stdout",
     "output_type": "stream",
     "text": [
      "Unmatched polygons for /home/efittsc1/projects/latin-transcription/source/JUST1-734m17.xml\n",
      "Unmatched polygons for /home/efittsc1/projects/latin-transcription/source/JUST1-633m5a.xml\n"
     ]
    },
    {
     "name": "stderr",
     "output_type": "stream",
     "text": [
      " 26%|██▋       | 26/99 [00:04<00:15,  4.60it/s]"
     ]
    },
    {
     "name": "stdout",
     "output_type": "stream",
     "text": [
      "Unmatched polygons for /home/efittsc1/projects/latin-transcription/source/JUST1-633m58.xml\n",
      "Unmatched polygons for /home/efittsc1/projects/latin-transcription/source/norw4.xml\n"
     ]
    },
    {
     "name": "stderr",
     "output_type": "stream",
     "text": [
      " 28%|██▊       | 28/99 [00:04<00:11,  5.97it/s]"
     ]
    },
    {
     "name": "stdout",
     "output_type": "stream",
     "text": [
      "Unmatched polygons for /home/efittsc1/projects/latin-transcription/source/JUST1-734m8d.xml\n",
      "Unmatched polygons for /home/efittsc1/projects/latin-transcription/source/JUST1-734m2d.xml\n"
     ]
    },
    {
     "name": "stderr",
     "output_type": "stream",
     "text": [
      " 30%|███       | 30/99 [00:05<00:11,  6.01it/s]"
     ]
    },
    {
     "name": "stdout",
     "output_type": "stream",
     "text": [
      "Unmatched polygons for /home/efittsc1/projects/latin-transcription/source/JUST1-633m52.xml\n"
     ]
    },
    {
     "name": "stderr",
     "output_type": "stream",
     "text": [
      " 32%|███▏      | 32/99 [00:05<00:14,  4.64it/s]"
     ]
    },
    {
     "name": "stdout",
     "output_type": "stream",
     "text": [
      "Unmatched polygons for /home/efittsc1/projects/latin-transcription/source/JUST1-734m4da.xml\n",
      "Unmatched polygons for /home/efittsc1/projects/latin-transcription/source/JUST1-734m5da.xml\n"
     ]
    },
    {
     "name": "stderr",
     "output_type": "stream",
     "text": [
      " 35%|███▌      | 35/99 [00:06<00:08,  7.40it/s]"
     ]
    },
    {
     "name": "stdout",
     "output_type": "stream",
     "text": [
      "Unmatched polygons for /home/efittsc1/projects/latin-transcription/source/JUST1-635m6.xml\n",
      "Unmatched polygons for /home/efittsc1/projects/latin-transcription/source/JUST1-635m37.xml\n",
      "Unmatched polygons for /home/efittsc1/projects/latin-transcription/source/JUST1-734m7a.xml\n"
     ]
    },
    {
     "name": "stderr",
     "output_type": "stream",
     "text": [
      " 38%|███▊      | 38/99 [00:06<00:07,  7.96it/s]"
     ]
    },
    {
     "name": "stdout",
     "output_type": "stream",
     "text": [
      "Unmatched polygons for /home/efittsc1/projects/latin-transcription/source/JUST1-277m15da.xml\n"
     ]
    },
    {
     "name": "stderr",
     "output_type": "stream",
     "text": [
      " 39%|███▉      | 39/99 [00:06<00:08,  6.92it/s]"
     ]
    },
    {
     "name": "stdout",
     "output_type": "stream",
     "text": [
      "Unmatched polygons for /home/efittsc1/projects/latin-transcription/source/JUST1-734m30d.xml\n",
      "Unmatched polygons for /home/efittsc1/projects/latin-transcription/source/JUST1-635m6f.xml\n"
     ]
    },
    {
     "name": "stderr",
     "output_type": "stream",
     "text": [
      " 41%|████▏     | 41/99 [00:06<00:07,  7.45it/s]"
     ]
    },
    {
     "name": "stdout",
     "output_type": "stream",
     "text": [
      "Unmatched polygons for /home/efittsc1/projects/latin-transcription/source/JUST1-633m38d.xml\n",
      "Unmatched polygons for /home/efittsc1/projects/latin-transcription/source/norw1.xml\n",
      "Unmatched polygons for /home/efittsc1/projects/latin-transcription/source/JUST1-633m16d.xml\n"
     ]
    },
    {
     "name": "stderr",
     "output_type": "stream",
     "text": [
      " 45%|████▌     | 45/99 [00:07<00:07,  7.31it/s]"
     ]
    },
    {
     "name": "stdout",
     "output_type": "stream",
     "text": [
      "Unmatched polygons for /home/efittsc1/projects/latin-transcription/source/JUST1-635m12d.xml\n",
      "Unmatched polygons for /home/efittsc1/projects/latin-transcription/source/JUST1-635m36d.xml\n"
     ]
    },
    {
     "name": "stderr",
     "output_type": "stream",
     "text": [
      " 47%|████▋     | 47/99 [00:07<00:09,  5.62it/s]"
     ]
    },
    {
     "name": "stdout",
     "output_type": "stream",
     "text": [
      "Unmatched polygons for /home/efittsc1/projects/latin-transcription/source/JUST1-633m31.xml\n"
     ]
    },
    {
     "name": "stderr",
     "output_type": "stream",
     "text": [
      " 48%|████▊     | 48/99 [00:08<00:09,  5.43it/s]"
     ]
    },
    {
     "name": "stdout",
     "output_type": "stream",
     "text": [
      "Unmatched polygons for /home/efittsc1/projects/latin-transcription/source/JUST1-633m3d.xml\n",
      "Unmatched polygons for /home/efittsc1/projects/latin-transcription/source/JUST1-635m95.xml\n"
     ]
    },
    {
     "name": "stderr",
     "output_type": "stream",
     "text": [
      " 51%|█████     | 50/99 [00:08<00:11,  4.24it/s]"
     ]
    },
    {
     "name": "stdout",
     "output_type": "stream",
     "text": [
      "Unmatched polygons for /home/efittsc1/projects/latin-transcription/source/JUST1-277m15d.xml\n"
     ]
    },
    {
     "name": "stderr",
     "output_type": "stream",
     "text": [
      " 52%|█████▏    | 51/99 [00:08<00:10,  4.44it/s]"
     ]
    },
    {
     "name": "stdout",
     "output_type": "stream",
     "text": [
      "Unmatched polygons for /home/efittsc1/projects/latin-transcription/source/JUST1-734m17d.xml\n"
     ]
    },
    {
     "name": "stderr",
     "output_type": "stream",
     "text": [
      " 54%|█████▎    | 53/99 [00:09<00:09,  4.65it/s]"
     ]
    },
    {
     "name": "stdout",
     "output_type": "stream",
     "text": [
      "Unmatched polygons for /home/efittsc1/projects/latin-transcription/source/JUST1-734m6da.xml\n"
     ]
    },
    {
     "name": "stderr",
     "output_type": "stream",
     "text": [
      " 55%|█████▍    | 54/99 [00:09<00:10,  4.14it/s]"
     ]
    },
    {
     "name": "stdout",
     "output_type": "stream",
     "text": [
      "Unmatched polygons for /home/efittsc1/projects/latin-transcription/source/JUST1-633m45d.xml\n"
     ]
    },
    {
     "name": "stderr",
     "output_type": "stream",
     "text": [
      " 56%|█████▌    | 55/99 [00:09<00:11,  3.72it/s]"
     ]
    },
    {
     "name": "stdout",
     "output_type": "stream",
     "text": [
      "Unmatched polygons for /home/efittsc1/projects/latin-transcription/source/JUST-633m12d.xml\n"
     ]
    },
    {
     "name": "stderr",
     "output_type": "stream",
     "text": [
      " 57%|█████▋    | 56/99 [00:10<00:10,  4.20it/s]"
     ]
    },
    {
     "name": "stdout",
     "output_type": "stream",
     "text": [
      "Unmatched polygons for /home/efittsc1/projects/latin-transcription/source/JUST1-633m32.xml\n",
      "Unmatched polygons for /home/efittsc1/projects/latin-transcription/source/JUST1-633m21d.xml\n"
     ]
    },
    {
     "name": "stderr",
     "output_type": "stream",
     "text": [
      " 59%|█████▊    | 58/99 [00:10<00:07,  5.73it/s]"
     ]
    },
    {
     "name": "stdout",
     "output_type": "stream",
     "text": [
      "Unmatched polygons for /home/efittsc1/projects/latin-transcription/source/JUST1-230m2.xml\n",
      "Unmatched polygons for /home/efittsc1/projects/latin-transcription/source/JUST1-734m11d.xml\n"
     ]
    },
    {
     "name": "stderr",
     "output_type": "stream",
     "text": [
      " 61%|██████    | 60/99 [00:10<00:08,  4.75it/s]"
     ]
    },
    {
     "name": "stdout",
     "output_type": "stream",
     "text": [
      "Unmatched polygons for /home/efittsc1/projects/latin-transcription/source/JUST1-734m14da.xml\n"
     ]
    },
    {
     "name": "stderr",
     "output_type": "stream",
     "text": [
      " 62%|██████▏   | 61/99 [00:11<00:08,  4.66it/s]"
     ]
    },
    {
     "name": "stdout",
     "output_type": "stream",
     "text": [
      "Unmatched polygons for /home/efittsc1/projects/latin-transcription/source/JUST1-734m29.xml\n"
     ]
    },
    {
     "name": "stderr",
     "output_type": "stream",
     "text": [
      " 64%|██████▎   | 63/99 [00:11<00:08,  4.14it/s]"
     ]
    },
    {
     "name": "stdout",
     "output_type": "stream",
     "text": [
      "Unmatched polygons for /home/efittsc1/projects/latin-transcription/source/JUST1-734m15a.xml\n"
     ]
    },
    {
     "name": "stderr",
     "output_type": "stream",
     "text": [
      " 66%|██████▌   | 65/99 [00:12<00:07,  4.66it/s]"
     ]
    },
    {
     "name": "stdout",
     "output_type": "stream",
     "text": [
      "Unmatched polygons for /home/efittsc1/projects/latin-transcription/source/JUST1-734m12.xml\n"
     ]
    },
    {
     "name": "stderr",
     "output_type": "stream",
     "text": [
      " 69%|██████▊   | 68/99 [00:12<00:05,  5.82it/s]"
     ]
    },
    {
     "name": "stdout",
     "output_type": "stream",
     "text": [
      "Unmatched polygons for /home/efittsc1/projects/latin-transcription/source/JUST1-235m13.xml\n",
      "Unmatched polygons for /home/efittsc1/projects/latin-transcription/source/JUST1-734m7.xml\n"
     ]
    },
    {
     "name": "stderr",
     "output_type": "stream",
     "text": [
      " 72%|███████▏  | 71/99 [00:12<00:05,  5.25it/s]"
     ]
    },
    {
     "name": "stdout",
     "output_type": "stream",
     "text": [
      "Unmatched polygons for /home/efittsc1/projects/latin-transcription/source/JUST1-633m80.xml\n"
     ]
    },
    {
     "name": "stderr",
     "output_type": "stream",
     "text": [
      " 75%|███████▍  | 74/99 [00:13<00:03,  7.04it/s]"
     ]
    },
    {
     "name": "stdout",
     "output_type": "stream",
     "text": [
      "Unmatched polygons for /home/efittsc1/projects/latin-transcription/source/norw7.xml\n"
     ]
    },
    {
     "name": "stderr",
     "output_type": "stream",
     "text": [
      " 76%|███████▌  | 75/99 [00:13<00:03,  6.41it/s]"
     ]
    },
    {
     "name": "stdout",
     "output_type": "stream",
     "text": [
      "Unmatched polygons for /home/efittsc1/projects/latin-transcription/source/JUST1-635m89.xml\n"
     ]
    },
    {
     "name": "stderr",
     "output_type": "stream",
     "text": [
      " 77%|███████▋  | 76/99 [00:13<00:04,  4.94it/s]"
     ]
    },
    {
     "name": "stdout",
     "output_type": "stream",
     "text": [
      "Unmatched polygons for /home/efittsc1/projects/latin-transcription/source/JUST-633m38.xml\n"
     ]
    },
    {
     "name": "stderr",
     "output_type": "stream",
     "text": [
      " 78%|███████▊  | 77/99 [00:13<00:03,  5.58it/s]"
     ]
    },
    {
     "name": "stdout",
     "output_type": "stream",
     "text": [
      "Unmatched polygons for /home/efittsc1/projects/latin-transcription/source/norw3.xml\n",
      "Unmatched polygons for /home/efittsc1/projects/latin-transcription/source/JUST1-633m167d.xml\n"
     ]
    },
    {
     "name": "stderr",
     "output_type": "stream",
     "text": [
      " 82%|████████▏ | 81/99 [00:14<00:02,  7.07it/s]"
     ]
    },
    {
     "name": "stdout",
     "output_type": "stream",
     "text": [
      "Unmatched polygons for /home/efittsc1/projects/latin-transcription/source/JUST1-734m5a.xml\n"
     ]
    },
    {
     "name": "stderr",
     "output_type": "stream",
     "text": [
      " 83%|████████▎ | 82/99 [00:14<00:03,  5.65it/s]"
     ]
    },
    {
     "name": "stdout",
     "output_type": "stream",
     "text": [
      "Unmatched polygons for /home/efittsc1/projects/latin-transcription/source/JUST1-734m23d.xml\n"
     ]
    },
    {
     "name": "stderr",
     "output_type": "stream",
     "text": [
      " 84%|████████▍ | 83/99 [00:14<00:03,  4.51it/s]"
     ]
    },
    {
     "name": "stdout",
     "output_type": "stream",
     "text": [
      "Unmatched polygons for /home/efittsc1/projects/latin-transcription/source/JUST1-734m6d.xml\n"
     ]
    },
    {
     "name": "stderr",
     "output_type": "stream",
     "text": [
      " 85%|████████▍ | 84/99 [00:15<00:02,  5.05it/s]"
     ]
    },
    {
     "name": "stdout",
     "output_type": "stream",
     "text": [
      "Unmatched polygons for /home/efittsc1/projects/latin-transcription/source/JUST1-734m8.xml\n",
      "Unmatched polygons for /home/efittsc1/projects/latin-transcription/source/JUST1-734m1.xml\n"
     ]
    },
    {
     "name": "stderr",
     "output_type": "stream",
     "text": [
      " 87%|████████▋ | 86/99 [00:15<00:02,  4.74it/s]"
     ]
    },
    {
     "name": "stdout",
     "output_type": "stream",
     "text": [
      "Unmatched polygons for /home/efittsc1/projects/latin-transcription/source/JUST1-734m10d.xml\n"
     ]
    },
    {
     "name": "stderr",
     "output_type": "stream",
     "text": [
      " 88%|████████▊ | 87/99 [00:15<00:02,  4.59it/s]"
     ]
    },
    {
     "name": "stdout",
     "output_type": "stream",
     "text": [
      "Unmatched polygons for /home/efittsc1/projects/latin-transcription/source/JUST-633m11.xml\n"
     ]
    },
    {
     "name": "stderr",
     "output_type": "stream",
     "text": [
      " 89%|████████▉ | 88/99 [00:16<00:02,  4.16it/s]"
     ]
    },
    {
     "name": "stdout",
     "output_type": "stream",
     "text": [
      "Unmatched polygons for /home/efittsc1/projects/latin-transcription/source/JUST1-734m32d.xml\n"
     ]
    },
    {
     "name": "stderr",
     "output_type": "stream",
     "text": [
      " 90%|████████▉ | 89/99 [00:16<00:02,  4.05it/s]"
     ]
    },
    {
     "name": "stdout",
     "output_type": "stream",
     "text": [
      "Unmatched polygons for /home/efittsc1/projects/latin-transcription/source/JUST1-734m18d.xml\n",
      "Unmatched polygons for /home/efittsc1/projects/latin-transcription/source/JUST1-633m5.xml\n"
     ]
    },
    {
     "name": "stderr",
     "output_type": "stream",
     "text": [
      " 92%|█████████▏| 91/99 [00:17<00:02,  3.01it/s]"
     ]
    },
    {
     "name": "stdout",
     "output_type": "stream",
     "text": [
      "Unmatched polygons for /home/efittsc1/projects/latin-transcription/source/JUST1-633m22.xml\n"
     ]
    },
    {
     "name": "stderr",
     "output_type": "stream",
     "text": [
      " 94%|█████████▍| 93/99 [00:17<00:01,  4.35it/s]"
     ]
    },
    {
     "name": "stdout",
     "output_type": "stream",
     "text": [
      "Unmatched polygons for /home/efittsc1/projects/latin-transcription/source/JUST1-734m3a.xml\n",
      "Unmatched polygons for /home/efittsc1/projects/latin-transcription/source/JUST1-734m18.xml\n"
     ]
    },
    {
     "name": "stderr",
     "output_type": "stream",
     "text": [
      " 96%|█████████▌| 95/99 [00:17<00:00,  4.95it/s]"
     ]
    },
    {
     "name": "stdout",
     "output_type": "stream",
     "text": [
      "Unmatched polygons for /home/efittsc1/projects/latin-transcription/source/JUST-633m20.xml\n"
     ]
    },
    {
     "name": "stderr",
     "output_type": "stream",
     "text": [
      " 97%|█████████▋| 96/99 [00:18<00:00,  4.56it/s]"
     ]
    },
    {
     "name": "stdout",
     "output_type": "stream",
     "text": [
      "Unmatched polygons for /home/efittsc1/projects/latin-transcription/source/JUST1-734m12d.xml\n"
     ]
    },
    {
     "name": "stderr",
     "output_type": "stream",
     "text": [
      " 98%|█████████▊| 97/99 [00:18<00:00,  5.08it/s]"
     ]
    },
    {
     "name": "stdout",
     "output_type": "stream",
     "text": [
      "Unmatched polygons for /home/efittsc1/projects/latin-transcription/source/JUST1-734m3b.xml\n"
     ]
    },
    {
     "name": "stderr",
     "output_type": "stream",
     "text": [
      " 99%|█████████▉| 98/99 [00:18<00:00,  4.52it/s]"
     ]
    },
    {
     "name": "stdout",
     "output_type": "stream",
     "text": [
      "Unmatched polygons for /home/efittsc1/projects/latin-transcription/source/JUST1-633m9d.xml\n"
     ]
    },
    {
     "name": "stderr",
     "output_type": "stream",
     "text": [
      "100%|██████████| 99/99 [00:18<00:00,  5.26it/s]"
     ]
    },
    {
     "name": "stdout",
     "output_type": "stream",
     "text": [
      "Unmatched polygons for /home/efittsc1/projects/latin-transcription/source/JUST1-734m17da.xml\n"
     ]
    },
    {
     "name": "stderr",
     "output_type": "stream",
     "text": [
      "\n"
     ]
    }
   ],
   "source": [
    "char_error_rate = CharErrorRate()\n",
    "word_error_rate = WordErrorRate()\n",
    "\n",
    "data = {}\n",
    "\n",
    "for filename in tqdm(glob.glob(GROUND_TRUTH_SOURCE + \"/*.xml\")):\n",
    "    if os.path.basename(filename) not in transcribus_files_dics:\n",
    "        continue\n",
    "    transkribus_file = transcribus_files_dics[os.path.basename(filename)]\n",
    "    ground_truth_file = filename\n",
    "    transkribus_lines = extract_lines_from_xml(transkribus_file)\n",
    "    ground_truth_lines = extract_lines_from_xml(ground_truth_file)\n",
    "    t_lines = [t[0] for t in transkribus_lines]\n",
    "    gt_lines = [t[0] for t in ground_truth_lines]\n",
    "\n",
    "    t_baselines = [t[1] for t in transkribus_lines]\n",
    "    gt_baselines = [t[1] for t in ground_truth_lines]\n",
    "\n",
    "    try:\n",
    "        #med_spacing_t = get_line_spacing(t_baselines)\n",
    "        med_spacing_gt = get_line_spacing(gt_baselines)\n",
    "    except Exception as e:\n",
    "        print(filename)\n",
    "        print(f\"transkribus_lines: {t_baselines}\")\n",
    "        print(f\"ground_truth_lines: {gt_baselines}\")\n",
    "        print(f\"Error processing {filename}: {e}\")\n",
    "        continue\n",
    "\n",
    "    image_path = filename.replace(\".xml\", \".jpeg\")\n",
    "    if not os.path.exists(image_path):\n",
    "        image_path = filename.replace(\".xml\", \".jpg\")\n",
    "    if not os.path.exists(image_path):\n",
    "        image_path = filename.replace(\".xml\", \".png\")\n",
    "    if not os.path.exists(image_path):\n",
    "        raise Exception(f\"Image not found for {filename}\")\n",
    "    \n",
    "\n",
    "    image = cv2.imread(image_path)\n",
    "    height, width, _ = image.shape\n",
    "\n",
    "    def get_bbx(np_array):\n",
    "        x = np_array[:, 0]\n",
    "        y = np_array[:, 1]\n",
    "        return np.array([[np.min(x), np.min(y)], [np.max(x), np.max(y)]])\n",
    "    \n",
    "    t_bounding_boxes = [get_bbx(t[1]) for t in transkribus_lines]\n",
    "    gt_bounding_boxes = [get_bbx(t[1]) for t in ground_truth_lines]\n",
    "\n",
    "    t_polygons = [box_from_baseline(t[1], med_spacing_gt, height) for t in transkribus_lines]\n",
    "    gt_polygons = [box_from_baseline(t[1], med_spacing_gt, height) for t in ground_truth_lines]\n",
    "\n",
    "    shapely_t_polygons = [Polygon(p.tolist()) for p in t_polygons]\n",
    "    shapely_gt_polygons = [Polygon(p.tolist()) for p in gt_polygons]\n",
    "\n",
    "    gt_strtree = STRtree(shapely_gt_polygons)\n",
    "\n",
    "    matched_polygons = []\n",
    "\n",
    "    for i, t_polygon in enumerate(shapely_t_polygons):\n",
    "        possible_matches = gt_strtree.query(t_polygon)\n",
    "        scaled_t_polygon = Polygon(scale_np_array_y(polygon_to_points(t_polygon), 1.6).tolist())\n",
    "        for match_idx in possible_matches:\n",
    "            match = shapely_gt_polygons[match_idx]\n",
    "            scaled_match = Polygon(scale_np_array_y(polygon_to_points(match), 1.6).tolist())\n",
    "            intersection = t_polygon.intersection(scaled_match)\n",
    "            intersection2 = scaled_t_polygon.intersection(match)\n",
    "            if intersection.area > 0.9 * t_polygon.area and intersection2.area > 0.9 * match.area:\n",
    "                matched_polygons.append((i, shapely_gt_polygons.index(match)))\n",
    "            \n",
    "    \n",
    "    for i, j in matched_polygons:\n",
    "        random_color = (np.random.randint(0, 255), np.random.randint(0, 255), np.random.randint(0, 255))\n",
    "        cv2.polylines(image, [t_polygons[i]], isClosed=True, color=random_color, thickness=3)\n",
    "        cv2.polylines(image, [gt_polygons[j]], isClosed=True, color=random_color, thickness=2)\n",
    "    # save image to images/works\n",
    "    filename_ = \"images/matched_lines/\" + os.path.basename(filename).split('.')[0] + \".png\"\n",
    "    cv2.imwrite(filename_, image)\n",
    "\n",
    "    \n",
    "    unmatched_polygons_t = [i for i in range(len(t_polygons)) if i not in [m[0] for m in matched_polygons]]\n",
    "    unmatched_polygons_gt = [i for i in range(len(gt_polygons)) if i not in [m[1] for m in matched_polygons]]\n",
    "\n",
    "    if len(unmatched_polygons_t + unmatched_polygons_gt) != 0:\n",
    "        new_image = cv2.imread(image_path)\n",
    "        print(f\"Unmatched polygons for {filename}\")\n",
    "        for i in unmatched_polygons_t:\n",
    "            cv2.polylines(new_image, [t_polygons[i]], isClosed=True, color=(0, 255, 0), thickness=3)\n",
    "        for i in unmatched_polygons_gt:\n",
    "            cv2.polylines(new_image, [gt_polygons[i]], isClosed=True, color=(255, 0, 0), thickness=2)\n",
    "        \n",
    "        stacked_image = np.vstack([image, new_image])\n",
    "        filename_ = \"images/unmatched_lines/\" + os.path.basename(filename).split('.')[0] + \".png\"\n",
    "        cv2.imwrite(filename_, stacked_image)\n",
    "\n",
    "    data[os.path.basename(filename)] = {}\n",
    "    for index, (i, j) in enumerate(matched_polygons):\n",
    "        gt = transformation(ground_truth_lines[j][0])\n",
    "        hyp = transformation(transkribus_lines[i][0])\n",
    "\n",
    "        char_error_rate.update(hyp, gt)\n",
    "        word_error_rate.update(hyp, gt)\n",
    "\n",
    "        data[os.path.basename(filename)][index] = {\n",
    "            \"ground_truth\": ground_truth_lines[j][0],\n",
    "            \"hypothesis\": transkribus_lines[i][0],\n",
    "            \"ground_truth_index\": j,\n",
    "            \"hypothesis_index\": i,\n",
    "        }\n"
   ]
  },
  {
   "cell_type": "code",
   "execution_count": 16,
   "metadata": {},
   "outputs": [],
   "source": [
    "character_error_rate_ = float(char_error_rate.compute())\n",
    "word_error_rate_ = float(word_error_rate.compute())\n"
   ]
  },
  {
   "cell_type": "code",
   "execution_count": 17,
   "metadata": {},
   "outputs": [
    {
     "name": "stdout",
     "output_type": "stream",
     "text": [
      "Character Error Rate: 0.22566388547420502\n",
      "Word Error Rate: 0.5422852039337158\n"
     ]
    }
   ],
   "source": [
    "print(f\"Character Error Rate: {character_error_rate_}\")\n",
    "print(f\"Word Error Rate: {word_error_rate_}\")"
   ]
  },
  {
   "cell_type": "code",
   "execution_count": 18,
   "metadata": {},
   "outputs": [
    {
     "name": "stderr",
     "output_type": "stream",
     "text": [
      "100%|██████████| 99/99 [02:37<00:00,  1.59s/it]\n"
     ]
    }
   ],
   "source": [
    "char_error_rate_old = CharErrorRate()\n",
    "word_error_rate_old = WordErrorRate()\n",
    "\n",
    "data_old = {}\n",
    "\n",
    "for filename in tqdm(glob.glob(GROUND_TRUTH_SOURCE + \"/*.xml\")):\n",
    "    if os.path.basename(filename) not in transcribus_files_dics:\n",
    "        continue\n",
    "    transkribus_file = transcribus_files_dics[os.path.basename(filename)]\n",
    "    ground_truth_file = filename\n",
    "    transkribus_lines = extract_lines_from_xml(transkribus_file)\n",
    "    ground_truth_lines = extract_lines_from_xml(ground_truth_file)\n",
    "\n",
    "    transkribus_lines = [t[0] for t in transkribus_lines]\n",
    "    ground_truth_lines = [t[0] for t in ground_truth_lines]\n",
    "\n",
    "    transkribus_text = \" \".join(transkribus_lines)\n",
    "    ground_truth_text = \" \".join(ground_truth_lines)\n",
    "    \n",
    "    gt = transformation(ground_truth_text)\n",
    "    hyp = transformation(transkribus_text)  \n",
    "\n",
    "    char_error_rate_old.update(hyp, gt)\n",
    "    word_error_rate_old.update(hyp, gt)\n",
    "\n",
    "    data_old[os.path.basename(filename)] = {\n",
    "        \"ground_truth\": ground_truth_text,\n",
    "        \"hypothesis\": transkribus_text,\n",
    "    }"
   ]
  },
  {
   "cell_type": "code",
   "execution_count": 19,
   "metadata": {},
   "outputs": [
    {
     "name": "stdout",
     "output_type": "stream",
     "text": [
      "Character Error Rate: 0.2582835257053375\n",
      "Word Error Rate: 0.566498339176178\n"
     ]
    }
   ],
   "source": [
    "character_error_rate_old = float(char_error_rate_old.compute())\n",
    "word_error_rate_old = float(word_error_rate_old.compute())\n",
    "print(f\"Character Error Rate: {character_error_rate_old}\")\n",
    "print(f\"Word Error Rate: {word_error_rate_old}\")"
   ]
  }
 ],
 "metadata": {
  "kernelspec": {
   "display_name": ".venv",
   "language": "python",
   "name": "python3"
  },
  "language_info": {
   "codemirror_mode": {
    "name": "ipython",
    "version": 3
   },
   "file_extension": ".py",
   "mimetype": "text/x-python",
   "name": "python",
   "nbconvert_exporter": "python",
   "pygments_lexer": "ipython3",
   "version": "3.11.2"
  }
 },
 "nbformat": 4,
 "nbformat_minor": 2
}
